{
 "cells": [
  {
   "cell_type": "code",
   "execution_count": 235,
   "metadata": {},
   "outputs": [],
   "source": [
    "import pandas as pd \n",
    "import numpy as np\n",
    "from numpy.random import random_integers as rnd\n",
    "from random import randrange"
   ]
  },
  {
   "cell_type": "markdown",
   "metadata": {},
   "source": [
    "# Create fitness function: "
   ]
  },
  {
   "cell_type": "code",
   "execution_count": 236,
   "metadata": {},
   "outputs": [
    {
     "data": {
      "image/png": "[encoded data removed]",
      "text/plain": [
       "<IPython.core.display.Image object>"
      ]
     },
     "execution_count": 236,
     "metadata": {},
     "output_type": "execute_result"
    }
   ],
   "source": [
    "from IPython.display import Image\n",
    "img = '/Users/lorenzofamiglini/Desktop/fitnessf.png'\n",
    "Image(filename=img)"
   ]
  },
  {
   "cell_type": "markdown",
   "metadata": {},
   "source": [
    "We need to maximaze the ratio: The larger the difference to the numerator, the smaller the distance to the point of arrival."
   ]
  },
  {
   "cell_type": "code",
   "execution_count": 237,
   "metadata": {},
   "outputs": [],
   "source": [
    "def fitness_function(cc, sc, fc): \n",
    "    from scipy.spatial import distance\n",
    "    num = distance.euclidean(cc, sc)\n",
    "    den = distance.euclidean(fc, cc) + 1\n",
    "    ratio = (num/den)*100\n",
    "    return ratio"
   ]
  },
  {
   "cell_type": "code",
   "execution_count": 238,
   "metadata": {},
   "outputs": [],
   "source": [
    "#fitness_function((0,1),(0,0),(0,2))"
   ]
  },
  {
   "cell_type": "code",
   "execution_count": 239,
   "metadata": {},
   "outputs": [],
   "source": [
    "def create_mz(width = 3, height = 6):\n",
    "    mz = maze(width, height)\n",
    "    for i in range(100):\n",
    "        x = randrange(mz.shape[1]-1) #start\n",
    "        y = randrange(mz.shape[1]-1) #end\n",
    "        if (x!=0 & x!=(randrange(mz.shape[1]-1)) & y!=0 & y!=(randrange(mz.shape[1]-1)) &(mz[1][y]!=1) & (mz[mz.shape[0]-2][x]!=1)):\n",
    "            mz[mz.shape[0]-1][x] = 2\n",
    "            mz[0][y] = 3\n",
    "            break\n",
    "    start = (mz.shape[0]-1,x)\n",
    "    end = (0, y)\n",
    "    return(mz, start, end)"
   ]
  },
  {
   "cell_type": "markdown",
   "metadata": {},
   "source": [
    "# Create Maze"
   ]
  },
  {
   "cell_type": "code",
   "execution_count": 240,
   "metadata": {},
   "outputs": [],
   "source": [
    "def maze(width=80, height=40, complexity=.75, density =.75):\n",
    "    # Only odd shapes\n",
    "    shape = ((height//2)*2+1, (width//2)*2+1)\n",
    "    # Adjust complexity and density relative to maze size\n",
    "    complexity = int(complexity*(5*(shape[0]+shape[1])))\n",
    "    density    = int(density*(shape[0]//2*shape[1]//2))\n",
    "    # Build actual maze\n",
    "    Z = np.zeros(shape)\n",
    "    # Fill borders\n",
    "    Z[0,:] = Z[-1,:] = 1\n",
    "    Z[:,0] = Z[:,-1] = 1\n",
    "    # Make isles\n",
    "    for i in range(density):\n",
    "        x, y = rnd(0,shape[1]//2)*2, rnd(0,shape[0]//2)*2\n",
    "        Z[y,x] = 1\n",
    "        for j in range(complexity):\n",
    "            neighbours = []\n",
    "            if x > 1:           neighbours.append( (y,x-2) )\n",
    "            if x < shape[1]-2:  neighbours.append( (y,x+2) )\n",
    "            if y > 1:           neighbours.append( (y-2,x) )\n",
    "            if y < shape[0]-2:  neighbours.append( (y+2,x) )\n",
    "            if len(neighbours):\n",
    "                y_,x_ = neighbours[rnd(0,len(neighbours)-1)]\n",
    "                if Z[y_,x_] == 0:\n",
    "                    Z[y_,x_] = 1\n",
    "                    Z[y_+(y-y_)//2, x_+(x-x_)//2] = 1\n",
    "                    x, y = x_, y_\n",
    "    return Z"
   ]
  },
  {
   "cell_type": "code",
   "execution_count": 241,
   "metadata": {
    "scrolled": true
   },
   "outputs": [
    {
     "name": "stderr",
     "output_type": "stream",
     "text": [
      "/Library/Frameworks/Python.framework/Versions/3.7/lib/python3.7/site-packages/ipykernel_launcher.py:14: DeprecationWarning: This function is deprecated. Please call randint(0, 2 + 1) instead\n",
      "  \n",
      "/Library/Frameworks/Python.framework/Versions/3.7/lib/python3.7/site-packages/ipykernel_launcher.py:23: DeprecationWarning: This function is deprecated. Please call randint(0, 1 + 1) instead\n"
     ]
    }
   ],
   "source": [
    "mz, start, end = create_mz(width=5,height=5)"
   ]
  },
  {
   "cell_type": "markdown",
   "metadata": {},
   "source": [
    "# Random starting population with N-parents"
   ]
  },
  {
   "cell_type": "code",
   "execution_count": 242,
   "metadata": {},
   "outputs": [
    {
     "data": {
      "text/plain": [
       "5"
      ]
     },
     "execution_count": 242,
     "metadata": {},
     "output_type": "execute_result"
    }
   ],
   "source": [
    "#mz.shape[0]"
   ]
  },
  {
   "cell_type": "code",
   "execution_count": 243,
   "metadata": {},
   "outputs": [],
   "source": [
    "def random_population(mz, num_parents):\n",
    "    parent = []\n",
    "    parent2 = []\n",
    "    direction = [\"n\",\"s\",\"e\",\"w\"] #North, South, East, West\n",
    "    for i in range(num_parents):\n",
    "        if (mz.shape[0] <= mz.shape[1]):\n",
    "            parent.append(np.random.choice(direction, int(mz.shape[0]/2)).tolist())\n",
    "        else: \n",
    "            parent.append(np.random.choice(direction, int(mz.shape[1]/2)).tolist())\n",
    "    return parent"
   ]
  },
  {
   "cell_type": "code",
   "execution_count": 244,
   "metadata": {},
   "outputs": [],
   "source": [
    "prova = random_population(mz,min(mz.shape))"
   ]
  },
  {
   "cell_type": "code",
   "execution_count": 245,
   "metadata": {},
   "outputs": [
    {
     "data": {
      "text/plain": [
       "[['e', 's'], ['n', 'e'], ['s', 's'], ['e', 'n'], ['w', 's']]"
      ]
     },
     "execution_count": 245,
     "metadata": {},
     "output_type": "execute_result"
    }
   ],
   "source": [
    "prova"
   ]
  },
  {
   "cell_type": "code",
   "execution_count": 246,
   "metadata": {},
   "outputs": [],
   "source": [
    "def random_population2(mz, num_parents):\n",
    "    parent = []\n",
    "    parent2 = []\n",
    "    direction = [\"n\",\"s\",\"e\",\"w\"] #North, South, East, West\n",
    "    for i in range(num_parents):\n",
    "        if (mz.shape[0] <= mz.shape[1]):\n",
    "            parent.append(np.random.choice(direction,mz.shape[0]).tolist())\n",
    "        else: \n",
    "            parent.append(np.random.choice(direction, mz.shape[1]).tolist())\n",
    "    return parent"
   ]
  },
  {
   "cell_type": "markdown",
   "metadata": {},
   "source": [
    "# Moving Funtion"
   ]
  },
  {
   "cell_type": "code",
   "execution_count": 247,
   "metadata": {},
   "outputs": [],
   "source": [
    "def moving(mz, seq, current_pos):\n",
    "    for i in seq:\n",
    "        if ((i == 'n') & (current_pos[0]!=0)):\n",
    "            if((mz[current_pos[0]-1, current_pos[1]]!=1)):\n",
    "                current_pos = (current_pos[0]-1, current_pos[1])\n",
    "        if ((i == 's') & (current_pos[0]!=(mz.shape[0]-1))):\n",
    "            if((mz[current_pos[0] + 1, current_pos[1]]!=1)):\n",
    "                current_pos = (current_pos[0]+1, current_pos[1])\n",
    "        if ((i == 'w') & (mz[(current_pos[0], current_pos[1]-1)]!=1)):\n",
    "            current_pos = (current_pos[0], current_pos[1]-1)\n",
    "        if ((i == 'e') & (mz[(current_pos[0], current_pos[1]+1)]!=1)):\n",
    "            current_pos = (current_pos[0], current_pos[1]+1)\n",
    "    return(current_pos)"
   ]
  },
  {
   "cell_type": "code",
   "execution_count": 248,
   "metadata": {},
   "outputs": [],
   "source": [
    "#moving(mz,['s', 'w', 'e', 's', 'w'], (0,2))"
   ]
  },
  {
   "cell_type": "markdown",
   "metadata": {},
   "source": [
    "# Score Function: \n",
    "We need to compute the total sum of fitness for the denominator and use the i-th fitness value for the numerator. In this way, we are going to attribute more weight to higher fitness value and less weight to the lowest value. The range score is between 0 and 1."
   ]
  },
  {
   "cell_type": "code",
   "execution_count": 249,
   "metadata": {},
   "outputs": [],
   "source": [
    "def score_function(random_parents,start, end,mz):\n",
    "    diz = {}\n",
    "    diz2 = {}\n",
    "    diz3 = {}\n",
    "    conta = 0\n",
    "    d = {}\n",
    "    for i in random_parents:\n",
    "        diz[\"seq\"] = i \n",
    "        diz[\"cc\"]= moving(mz,seq = i,current_pos = start)\n",
    "        diz[\"fitness\"] = fitness_function(cc = diz[\"cc\"], sc = start, fc = end).round(3)\n",
    "        diz2[\"sol{0}\".format(conta)] = diz\n",
    "        diz = {}\n",
    "        conta = conta + 1 \n",
    "    tot_sum = 0\n",
    "    for i in range(len(diz2)):\n",
    "        d = diz2[\"sol{0}\".format(i)]\n",
    "        tot_sum = tot_sum + d['fitness']\n",
    "    #tot_sum = 0\n",
    "    for i in range(len(diz2)):\n",
    "        d = diz2[\"sol{0}\".format(i)] \n",
    "        d['prob'] = d['fitness']/tot_sum\n",
    "    return diz2"
   ]
  },
  {
   "cell_type": "code",
   "execution_count": 250,
   "metadata": {},
   "outputs": [
    {
     "name": "stderr",
     "output_type": "stream",
     "text": [
      "/Library/Frameworks/Python.framework/Versions/3.7/lib/python3.7/site-packages/ipykernel_launcher.py:14: DeprecationWarning: This function is deprecated. Please call randint(0, 2 + 1) instead\n",
      "  \n",
      "/Library/Frameworks/Python.framework/Versions/3.7/lib/python3.7/site-packages/ipykernel_launcher.py:23: DeprecationWarning: This function is deprecated. Please call randint(0, 2 + 1) instead\n",
      "/Library/Frameworks/Python.framework/Versions/3.7/lib/python3.7/site-packages/ipykernel_launcher.py:23: DeprecationWarning: This function is deprecated. Please call randint(0, 3 + 1) instead\n"
     ]
    }
   ],
   "source": [
    "mz, start, end = create_mz(width=5,height=5)"
   ]
  },
  {
   "cell_type": "code",
   "execution_count": 251,
   "metadata": {},
   "outputs": [],
   "source": [
    "prova = random_population(mz,min(mz.shape))"
   ]
  },
  {
   "cell_type": "code",
   "execution_count": 252,
   "metadata": {
    "scrolled": true
   },
   "outputs": [
    {
     "name": "stderr",
     "output_type": "stream",
     "text": [
      "/Library/Frameworks/Python.framework/Versions/3.7/lib/python3.7/site-packages/ipykernel_launcher.py:21: RuntimeWarning: invalid value encountered in double_scalars\n"
     ]
    }
   ],
   "source": [
    "diz2 = score_function(random_parents = prova, start = start, end = end, mz = mz)"
   ]
  },
  {
   "cell_type": "code",
   "execution_count": 253,
   "metadata": {},
   "outputs": [
    {
     "data": {
      "text/plain": [
       "{'sol0': {'seq': ['s', 'e'], 'cc': (4, 1), 'fitness': 0.0, 'prob': nan},\n",
       " 'sol1': {'seq': ['w', 's'], 'cc': (4, 1), 'fitness': 0.0, 'prob': nan},\n",
       " 'sol2': {'seq': ['e', 'e'], 'cc': (4, 1), 'fitness': 0.0, 'prob': nan},\n",
       " 'sol3': {'seq': ['w', 's'], 'cc': (4, 1), 'fitness': 0.0, 'prob': nan},\n",
       " 'sol4': {'seq': ['w', 's'], 'cc': (4, 1), 'fitness': 0.0, 'prob': nan}}"
      ]
     },
     "execution_count": 253,
     "metadata": {},
     "output_type": "execute_result"
    }
   ],
   "source": [
    "#diz2"
   ]
  },
  {
   "cell_type": "markdown",
   "metadata": {},
   "source": [
    "# Choice function for selecting the best parents"
   ]
  },
  {
   "cell_type": "code",
   "execution_count": 254,
   "metadata": {},
   "outputs": [],
   "source": [
    "def best_sol(diz):\n",
    "    diz = copy.deepcopy(diz)\n",
    "    m = 0\n",
    "    sol = \"sol{0}\".format(1)\n",
    "    for i in range(len(diz)):\n",
    "        value = diz[\"sol{0}\".format(i)]['fitness']\n",
    "        if(value>=m):\n",
    "            m = value\n",
    "            sol = \"sol{0}\".format(i)\n",
    "    return(sol, m)"
   ]
  },
  {
   "cell_type": "code",
   "execution_count": 255,
   "metadata": {},
   "outputs": [],
   "source": [
    "import ipdb\n",
    "def select_function(diz):\n",
    "    l = []\n",
    "    keys = []\n",
    "    for i in range(len(diz)):\n",
    "        d = diz[\"sol{0}\".format(i)] \n",
    "        l.append(d['prob'])\n",
    "    for key in diz.keys():\n",
    "        keys.append(key)  \n",
    "    sample = np.random.choice(keys, len(diz) ,replace=True, p=l)\n",
    "    diz_out = {}\n",
    "    for i in range(len(sample) + 1):\n",
    "        if(i != len(sample)):\n",
    "            diz_out[\"sol{0}\".format(i)] = diz[sample[i]]\n",
    "        else:\n",
    "            sol, m = best_sol(diz)\n",
    "            diz_out[\"sol{0}\".format(i)] = diz[sol]\n",
    "    return(diz_out)"
   ]
  },
  {
   "cell_type": "code",
   "execution_count": 256,
   "metadata": {},
   "outputs": [
    {
     "name": "stderr",
     "output_type": "stream",
     "text": [
      "/Library/Frameworks/Python.framework/Versions/3.7/lib/python3.7/site-packages/ipykernel_launcher.py:10: RuntimeWarning: invalid value encountered in less\n",
      "  # Remove the CWD from sys.path while we load stuff.\n"
     ]
    }
   ],
   "source": [
    "app = select_function(diz2)"
   ]
  },
  {
   "cell_type": "code",
   "execution_count": 257,
   "metadata": {},
   "outputs": [
    {
     "data": {
      "text/plain": [
       "{'sol0': {'seq': ['s', 'e'], 'cc': (4, 1), 'fitness': 0.0, 'prob': nan},\n",
       " 'sol1': {'seq': ['s', 'e'], 'cc': (4, 1), 'fitness': 0.0, 'prob': nan},\n",
       " 'sol2': {'seq': ['s', 'e'], 'cc': (4, 1), 'fitness': 0.0, 'prob': nan},\n",
       " 'sol3': {'seq': ['s', 'e'], 'cc': (4, 1), 'fitness': 0.0, 'prob': nan},\n",
       " 'sol4': {'seq': ['s', 'e'], 'cc': (4, 1), 'fitness': 0.0, 'prob': nan},\n",
       " 'sol5': {'seq': ['w', 's'], 'cc': (4, 1), 'fitness': 0.0, 'prob': nan}}"
      ]
     },
     "execution_count": 257,
     "metadata": {},
     "output_type": "execute_result"
    }
   ],
   "source": [
    "#app"
   ]
  },
  {
   "cell_type": "markdown",
   "metadata": {},
   "source": [
    "# Crossover"
   ]
  },
  {
   "cell_type": "code",
   "execution_count": 260,
   "metadata": {},
   "outputs": [],
   "source": [
    "def crossover(diz, broke, best_to_keep, mz):\n",
    "    import copy\n",
    "    diz = copy.deepcopy(diz)\n",
    "    ind = 0\n",
    "    n = 0\n",
    "    diz2 = {}\n",
    "    diz_out = {}\n",
    "    conta=0\n",
    "    diz_app = {}\n",
    "    fit_values = {}\n",
    "    bests = []\n",
    "    diz_fin = {}\n",
    "    for i in range(int(len(diz)/2)):\n",
    "        d = {}\n",
    "        a = diz[\"sol{0}\".format(ind)]['seq']\n",
    "        b = diz[\"sol{0}\".format(ind+1)]['seq']\n",
    "        broke = int(min(len(a), len(b))/2)\n",
    "        l1 = []\n",
    "        l2 = []\n",
    "        for i in range(broke):\n",
    "            l1.append(a[i])\n",
    "        for i in range(len(b)-broke):\n",
    "            l1.append(b[broke+i])\n",
    "        for i in range(broke):\n",
    "            l2.append(b[i])\n",
    "        for i in range(len(a)-broke):\n",
    "            l2.append(a[broke+i])\n",
    "        d['seq'] = l1\n",
    "        diz_out[\"sol{0}\".format(conta)] = l1\n",
    "        fit_values[\"sol{0}\".format(conta)] = diz[\"sol{0}\".format(conta)]['fitness']\n",
    "        conta = conta + 1\n",
    "        fit_values[\"sol{0}\".format(conta)] = diz[\"sol{0}\".format(conta)]['fitness']\n",
    "        d['seq'] = l2\n",
    "        diz_out[\"sol{0}\".format(conta)] = l2\n",
    "        conta = conta + 1 \n",
    "        ind = ind + 2\n",
    "    fit_values = {k: v for k, v in sorted(fit_values.items(), key=lambda x: x[1])} #ordino in modo crescente i valori nella funzione dei genitori\n",
    "    c = 0 #conta\n",
    "    for i in fit_values:\n",
    "        if (c in range(best_to_keep)):\n",
    "            bests.append(i)\n",
    "        c = c + 1\n",
    "    lun=len(diz_out)\n",
    "    p = np.random.uniform(0,1,1) #add a direction randomly\n",
    "    for i in range(len(bests)): \n",
    "        if p <= 0.2:\n",
    "            c = np.random.choice([\"n\",\"s\",\"e\",\"w\"], 1)\n",
    "            diz[bests[i]][\"seq\"].extend(''.join(c))\n",
    "            diz_app = {}\n",
    "            diz_app[\"seq\"]=diz[bests[i]]['seq']\n",
    "            diz_fin[\"sol{0}\".format(i)] = diz_app\n",
    "        else:\n",
    "            diz_app = {}\n",
    "            diz_app[\"seq\"]=diz[bests[i]]['seq']\n",
    "            diz_fin[\"sol{0}\".format(i)] = diz_app\n",
    "    for i in range(len(diz_out)):\n",
    "        d_seq = {}\n",
    "        p2 = np.random.uniform(0,1,1)\n",
    "        if p2 >= 0.5:\n",
    "            c = np.random.choice([\"n\",\"s\",\"e\",\"w\"], 1)\n",
    "            diz_out[\"sol{0}\".format(i)].extend(''.join(c))\n",
    "        #else:\n",
    "            #lr = int(0.90*(len(diz_out[\"sol{0}\".format(i)])/2)) #learning rate\n",
    "            #if (len(diz_out[\"sol{0}\".format(i)]) > lr):\n",
    "                #diz_out[\"sol{0}\".format(i)].pop(-lr)\n",
    "    x = len(diz_fin)\n",
    "    for i in range(len(diz_out)):\n",
    "        diz_app2 = {}\n",
    "        diz_app2[\"seq\"] = diz_out[\"sol{0}\".format(i)]\n",
    "        diz_fin[\"sol{0}\".format(x+i)] = diz_app2\n",
    "    return diz_fin"
   ]
  },
  {
   "cell_type": "code",
   "execution_count": 261,
   "metadata": {
    "scrolled": true
   },
   "outputs": [],
   "source": [
    "# %%time\n",
    "#prova = crossover(diz= app, broke = 3,best_to_keep=2,mz=mz)"
   ]
  },
  {
   "cell_type": "code",
   "execution_count": 262,
   "metadata": {},
   "outputs": [],
   "source": [
    "def crossover2(diz, broke, best_to_keep, mz):\n",
    "    import copy\n",
    "    diz = copy.deepcopy(diz)\n",
    "    ind = 0\n",
    "    n = 0\n",
    "    diz2 = {}\n",
    "    diz_out = {}\n",
    "    conta=0\n",
    "    diz_app = {}\n",
    "    fit_values = {}\n",
    "    bests = []\n",
    "    diz_fin = {}\n",
    "    a = {}\n",
    "    b = {}\n",
    "    for i in range(int(len(diz)/2)):\n",
    "        d = {}\n",
    "        a = diz[\"sol{0}\".format(ind)]['seq']\n",
    "        b = diz[\"sol{0}\".format(ind+1)]['seq']\n",
    "        broke = int(min(len(a), len(b))/2)\n",
    "        l1 = []\n",
    "        l2 = []\n",
    "        for i in range(broke):\n",
    "            l1.append(a[i])\n",
    "        for i in range(len(b)-broke):\n",
    "            l1.append(b[broke+i])\n",
    "        for i in range(broke):\n",
    "            l2.append(b[i])\n",
    "        for i in range(len(a)-broke):\n",
    "            l2.append(a[broke+i])\n",
    "        d['seq'] = l1\n",
    "        diz_out[\"sol{0}\".format(conta)] = l1\n",
    "        fit_values[\"sol{0}\".format(conta)] = diz[\"sol{0}\".format(conta)]['fitness']\n",
    "        conta = conta + 1\n",
    "        fit_values[\"sol{0}\".format(conta)] = diz[\"sol{0}\".format(conta)]['fitness']\n",
    "        d['seq'] = l2\n",
    "        diz_out[\"sol{0}\".format(conta)] = l2\n",
    "        conta = conta + 1 \n",
    "        ind = ind + 2\n",
    "    fit_values = {k: v for k, v in sorted(fit_values.items(), key=lambda x: x[1])} #ordino in modo crescente i valori nella funzione dei genitori\n",
    "    c = 0 #conta\n",
    "    for i in fit_values:\n",
    "        if (c in range(best_to_keep)):\n",
    "            bests.append(i)\n",
    "        c = c + 1\n",
    "    lun=len(diz_out)\n",
    "    p = np.random.uniform(0,1,1) #add a direction randomly\n",
    "    for i in range(len(bests)): \n",
    "            diz_app = {}\n",
    "            diz_app[\"seq\"]=diz[bests[i]]['seq']\n",
    "            diz_fin[\"sol{0}\".format(i)] = diz_app\n",
    "    for i in range(len(diz_out)):\n",
    "        c = np.random.choice([\"n\",\"s\",\"e\",\"w\"], 1)\n",
    "        diz_out[\"sol{0}\".format(i)].extend(''.join(c))\n",
    "\n",
    "    x = len(diz_fin)\n",
    "    for i in range(len(diz_out)):\n",
    "        diz_app2 = {}\n",
    "        diz_app2[\"seq\"] = diz_out[\"sol{0}\".format(i)]\n",
    "        diz_fin[\"sol{0}\".format(x+i)] = diz_app2\n",
    "    return diz_fin"
   ]
  },
  {
   "cell_type": "code",
   "execution_count": 263,
   "metadata": {},
   "outputs": [],
   "source": [
    "#import copy\n",
    "#prova2 = copy.deepcopy(prova)"
   ]
  },
  {
   "cell_type": "markdown",
   "metadata": {},
   "source": [
    "# Add a stronger gene to the crossover sequence"
   ]
  },
  {
   "cell_type": "code",
   "execution_count": 264,
   "metadata": {},
   "outputs": [],
   "source": [
    "import itertools\n",
    "import copy\n",
    "def add_gene(diz2, start, end, mz, strong):\n",
    "    #import ipdb\n",
    "    diz = copy.deepcopy(diz2)\n",
    "    conta = 0\n",
    "    conta2 = 0\n",
    "    listaq = []\n",
    "    diz3 = {}\n",
    "    diz4 = {}\n",
    "    d = {}\n",
    "    lista3 = []\n",
    "    d2 = {}\n",
    "    lista = []\n",
    "    for i in range(len(diz)-1):\n",
    "        d = diz[\"sol{0}\".format(i)]\n",
    "        c = np.random.choice([\"n\",\"s\",\"e\",\"w\"], 1)\n",
    "        d[\"seq\"].append(''.join(c))\n",
    "        conta = conta + 1\n",
    "    #diz2 = copy.deepcopy(diz)\n",
    "    for i in range(len(diz)):\n",
    "        d2 = diz[\"sol{0}\".format(i)]\n",
    "        current_pos = moving(mz,seq =d2[\"seq\"],current_pos = start)\n",
    "        d2[\"current_poss\"] = current_pos\n",
    "        f = fitness_function(current_pos,start,end).round(3)\n",
    "        d2[\"fitness\"] = f\n",
    "    sor = dict(sorted(diz.items(), key=lambda item: item[1]['fitness'], reverse = True)[:strong])\n",
    "    for i,j in sor.items():\n",
    "        for q in j[\"seq\"]:\n",
    "            #print(j[\"seq\"])\n",
    "            #current_pos = moving(mz,seq = q,current_pos = start)\n",
    "            #if (start != current_pos):\n",
    "                #lista3.extend(q)\n",
    "            #start = current_pos\n",
    "        #listaq.append(lista3)\n",
    "            diz3[\"seq\"] = j[\"seq\"]\n",
    "            diz4[\"sol{0}\".format(conta2)] = diz3\n",
    "            lista3 = []\n",
    "            diz3 = {}\n",
    "            conta2 = conta2 + 1\n",
    "    return diz4"
   ]
  },
  {
   "cell_type": "code",
   "execution_count": 265,
   "metadata": {
    "scrolled": false
   },
   "outputs": [],
   "source": [
    "#a = add_gene(prova, start = start, mz = mz, end = end, strong = 2)"
   ]
  },
  {
   "cell_type": "markdown",
   "metadata": {},
   "source": [
    "# Function for union two functions above"
   ]
  },
  {
   "cell_type": "code",
   "execution_count": 267,
   "metadata": {},
   "outputs": [],
   "source": [
    "def union_gene(diz, diz2):\n",
    "    lista2 = []\n",
    "    app2 = {}\n",
    "    conta = 0\n",
    "    app = {}\n",
    "    for i,j in diz.items():\n",
    "        lista2.append(j[\"seq\"])\n",
    "    for i,j in diz2.items():\n",
    "        lista2.append(j[\"seq\"])\n",
    "    for i in lista2:\n",
    "        app[\"seq\"] = i \n",
    "        app2[\"sol{0}\".format(conta)] = app\n",
    "        conta = conta + 1\n",
    "        app = {}\n",
    "    return app2"
   ]
  },
  {
   "cell_type": "code",
   "execution_count": 268,
   "metadata": {},
   "outputs": [],
   "source": [
    "#dizion = union_gene(prova,a)"
   ]
  },
  {
   "cell_type": "markdown",
   "metadata": {},
   "source": [
    "# Mutation Function\n"
   ]
  },
  {
   "cell_type": "code",
   "execution_count": 270,
   "metadata": {},
   "outputs": [],
   "source": [
    "def mutate(l, pr = 0.1):\n",
    "    for i in range(len(l)):\n",
    "        if(int(np.random.choice(2,1, replace=False, p = [1-pr, pr])) == 1):\n",
    "            rand = np.random.choice([\"n\",\"s\",\"e\",\"w\"],1, replace=False)[0]\n",
    "            l[i] = rand\n",
    "    return(l)"
   ]
  },
  {
   "cell_type": "code",
   "execution_count": 271,
   "metadata": {},
   "outputs": [],
   "source": [
    "def mutation_fun(diz, pr = 0.1):\n",
    "    for i in range(len(diz)):\n",
    "        d = diz[\"sol{0}\".format(i)]\n",
    "        d['seq'] = mutate(d['seq'], pr)\n",
    "    return(diz)"
   ]
  },
  {
   "cell_type": "markdown",
   "metadata": {},
   "source": [
    "# Convergence function"
   ]
  },
  {
   "cell_type": "code",
   "execution_count": 272,
   "metadata": {},
   "outputs": [],
   "source": [
    "def convergence(mz, diz, start, end):\n",
    "    lis = []\n",
    "    conv = []\n",
    "    lis_out = []\n",
    "    start_cell = start\n",
    "    for i,v in diz.items():\n",
    "        for k in v[\"seq\"]:\n",
    "            lis.append(k)\n",
    "            move = moving(mz,seq =k,current_pos = start_cell)\n",
    "            if (move == end):\n",
    "                lis_out = lis\n",
    "                break\n",
    "            start_cell = move\n",
    "        lis = []\n",
    "        start_cell = start\n",
    "    return (lis_out)"
   ]
  },
  {
   "cell_type": "code",
   "execution_count": 273,
   "metadata": {},
   "outputs": [],
   "source": [
    "#convergence(mz, mut, start,end)"
   ]
  },
  {
   "cell_type": "markdown",
   "metadata": {},
   "source": [
    "# GENETIC ALGORITHM:"
   ]
  },
  {
   "cell_type": "code",
   "execution_count": null,
   "metadata": {},
   "outputs": [],
   "source": [
    "#"
   ]
  },
  {
   "cell_type": "code",
   "execution_count": 39,
   "metadata": {},
   "outputs": [],
   "source": [
    "def GA(genitori, start, end, mz, pr, n_iters, broke, strong):\n",
    "    conv_coor = []\n",
    "    fin = []\n",
    "    diz2 = {}\n",
    "    diz3 = {}\n",
    "    for i in range(n_iters):\n",
    "        diz = score_function(genitori, start, end, mz)\n",
    "        diz = select_function(diz)\n",
    "        cross = crossover(diz, broke, best_to_keep = 3, mz = mz)\n",
    "        #strongest_gen = add_gene(cross, start, end, mz, strong)\n",
    "        #diz = union_gene(cross, strongest_gen)\n",
    "        diz3 = mutation_fun(cross, pr)\n",
    "        genitori = []\n",
    "        for i,j in diz3.items():\n",
    "            #print(j[\"seq\"])\n",
    "            genitori.append(j[\"seq\"])\n",
    "       # diz3 = {}\n",
    "    for i in range(len(genitori)):\n",
    "        diz2[\"sol {0}\".format(i)] = genitori[i]\n",
    "    return diz2"
   ]
  },
  {
   "cell_type": "code",
   "execution_count": 114,
   "metadata": {},
   "outputs": [],
   "source": [
    "#conv = convergence(mz, prova, start, end)\n",
    "#if conv == end:\n",
    " #   conv_coor.append(conv)"
   ]
  },
  {
   "cell_type": "code",
   "execution_count": null,
   "metadata": {
    "scrolled": true
   },
   "outputs": [],
   "source": [
    "mz1, start1, end1 = create_mz(width=20,height=20)"
   ]
  },
  {
   "cell_type": "code",
   "execution_count": null,
   "metadata": {},
   "outputs": [],
   "source": [
    "start1"
   ]
  },
  {
   "cell_type": "code",
   "execution_count": null,
   "metadata": {},
   "outputs": [],
   "source": [
    "end1"
   ]
  },
  {
   "cell_type": "code",
   "execution_count": null,
   "metadata": {},
   "outputs": [],
   "source": [
    "genitori = random_population(mz1, 5)"
   ]
  },
  {
   "cell_type": "code",
   "execution_count": null,
   "metadata": {
    "scrolled": true
   },
   "outputs": [],
   "source": [
    "genitori"
   ]
  },
  {
   "cell_type": "code",
   "execution_count": null,
   "metadata": {
    "scrolled": true
   },
   "outputs": [],
   "source": [
    "%%time\n",
    "prova = GA(genitori = genitori, start = start1,end = end1,mz = mz1, pr = 0.1,broke = 5,n_iters = 120, strong = 2)"
   ]
  },
  {
   "cell_type": "markdown",
   "metadata": {},
   "source": [
    "# prova"
   ]
  },
  {
   "cell_type": "code",
   "execution_count": 274,
   "metadata": {},
   "outputs": [
    {
     "name": "stderr",
     "output_type": "stream",
     "text": [
      "/Library/Frameworks/Python.framework/Versions/3.7/lib/python3.7/site-packages/ipykernel_launcher.py:14: DeprecationWarning: This function is deprecated. Please call randint(0, 10 + 1) instead\n",
      "  \n",
      "/Library/Frameworks/Python.framework/Versions/3.7/lib/python3.7/site-packages/ipykernel_launcher.py:23: DeprecationWarning: This function is deprecated. Please call randint(0, 3 + 1) instead\n",
      "/Library/Frameworks/Python.framework/Versions/3.7/lib/python3.7/site-packages/ipykernel_launcher.py:23: DeprecationWarning: This function is deprecated. Please call randint(0, 2 + 1) instead\n",
      "/Library/Frameworks/Python.framework/Versions/3.7/lib/python3.7/site-packages/ipykernel_launcher.py:23: DeprecationWarning: This function is deprecated. Please call randint(0, 1 + 1) instead\n"
     ]
    }
   ],
   "source": [
    "mz1, start1, end1 = create_mz(width=20,height=20)"
   ]
  },
  {
   "cell_type": "code",
   "execution_count": 275,
   "metadata": {},
   "outputs": [],
   "source": [
    "genitori = random_population(mz1, 10)"
   ]
  },
  {
   "cell_type": "code",
   "execution_count": 276,
   "metadata": {},
   "outputs": [
    {
     "data": {
      "text/plain": [
       "[['s', 'e', 'n', 'n', 'e', 's', 'e', 'e', 'w', 'n'],\n",
       " ['n', 'w', 'w', 's', 'n', 'w', 'n', 's', 'n', 'n'],\n",
       " ['n', 's', 'n', 'w', 'e', 'n', 'w', 'n', 'e', 's'],\n",
       " ['n', 'w', 's', 's', 's', 'e', 'e', 'n', 's', 'n'],\n",
       " ['w', 'e', 'e', 's', 'e', 'n', 'w', 'w', 'n', 'n'],\n",
       " ['n', 'n', 'n', 'n', 's', 's', 'n', 'n', 's', 's'],\n",
       " ['s', 's', 'n', 'w', 'n', 'e', 'n', 's', 'n', 'n'],\n",
       " ['w', 'n', 'e', 's', 'e', 's', 'e', 'n', 's', 's'],\n",
       " ['n', 's', 'n', 'w', 'e', 's', 'n', 'n', 'e', 'w'],\n",
       " ['n', 'e', 's', 's', 'w', 's', 'w', 'n', 'w', 'n']]"
      ]
     },
     "execution_count": 276,
     "metadata": {},
     "output_type": "execute_result"
    }
   ],
   "source": [
    "genitori"
   ]
  },
  {
   "cell_type": "code",
   "execution_count": 277,
   "metadata": {},
   "outputs": [],
   "source": [
    "def GA2(genitori, start, end, mz, pr, n_iters, broke, strong):\n",
    "    conv_coor = []\n",
    "    fin = []\n",
    "    diz2 = {}\n",
    "    diz3 = {}\n",
    "    genitori2 = []\n",
    "    for i in range(n_iters):\n",
    "        diz = score_function(genitori, start, end, mz)\n",
    "        diz = select_function(diz)\n",
    "        cross = crossover2(diz, broke, best_to_keep = 3, mz = mz)\n",
    "        #strongest_gen = add_gene(cross, start, end, mz, strong)\n",
    "        #diz = union_gene(cross, strongest_gen)\n",
    "        diz3 = mutation_fun(cross, pr)\n",
    "        genitori = []\n",
    "        for i,j in diz3.items():\n",
    "            #print(j[\"seq\"])\n",
    "            genitori.append(j[\"seq\"])\n",
    "    for i in range(len(genitori)):\n",
    "        diz2[\"sol {0}\".format(i)] = genitori[i]\n",
    "    return diz2"
   ]
  },
  {
   "cell_type": "code",
   "execution_count": 278,
   "metadata": {},
   "outputs": [
    {
     "name": "stdout",
     "output_type": "stream",
     "text": [
      "CPU times: user 1min 37s, sys: 1.53 s, total: 1min 39s\n",
      "Wall time: 1min 53s\n"
     ]
    }
   ],
   "source": [
    "%%time\n",
    "prova2 = GA2(genitori = genitori, start = start1,end = end1,mz = mz1, pr = 0.1,broke = 5,n_iters = 80, strong = 2)"
   ]
  },
  {
   "cell_type": "code",
   "execution_count": 279,
   "metadata": {},
   "outputs": [],
   "source": [
    "cw = []\n",
    "for i,k in prova2.items():\n",
    "    cw.append(k)"
   ]
  },
  {
   "cell_type": "code",
   "execution_count": 280,
   "metadata": {},
   "outputs": [
    {
     "data": {
      "text/plain": [
       "329"
      ]
     },
     "execution_count": 280,
     "metadata": {},
     "output_type": "execute_result"
    }
   ],
   "source": [
    "len(cw)"
   ]
  },
  {
   "cell_type": "code",
   "execution_count": 281,
   "metadata": {
    "scrolled": false
   },
   "outputs": [],
   "source": [
    "score = score_function(cw, start1, end1, mz1)"
   ]
  },
  {
   "cell_type": "code",
   "execution_count": 283,
   "metadata": {
    "scrolled": true
   },
   "outputs": [],
   "source": [
    "diz11 = dict(sorted(score.items(), key=lambda item: item[1]['fitness'], reverse = True)[:10])"
   ]
  },
  {
   "cell_type": "code",
   "execution_count": 285,
   "metadata": {},
   "outputs": [],
   "source": [
    "lis_ck = []\n",
    "lis_ck2 = []\n",
    "for i,v in diz11.items():\n",
    "    lis_ck.append(v[\"seq\"])"
   ]
  },
  {
   "cell_type": "markdown",
   "metadata": {},
   "source": [
    "# Cleaning crashes with the walls"
   ]
  },
  {
   "cell_type": "code",
   "execution_count": 287,
   "metadata": {},
   "outputs": [],
   "source": [
    "def clean_walls(lista, end, start):  \n",
    "    import copy\n",
    "    np = copy.deepcopy(lista)\n",
    "    start_cell = start\n",
    "    new = []\n",
    "    new2 = []\n",
    "    move = end\n",
    "    coor = []\n",
    "    for i in np:\n",
    "        mov_start2 = moving(mz1 ,seq =i, current_pos = start_cell)\n",
    "        if (start_cell != mov_start2):\n",
    "            new.append(i)\n",
    "        start_cell = mov_start2\n",
    "    return new"
   ]
  },
  {
   "cell_type": "code",
   "execution_count": 288,
   "metadata": {},
   "outputs": [],
   "source": [
    "clean = clean_walls(lis_ck[0], end1, start1)"
   ]
  },
  {
   "cell_type": "code",
   "execution_count": 290,
   "metadata": {},
   "outputs": [
    {
     "data": {
      "text/plain": [
       "44"
      ]
     },
     "execution_count": 290,
     "metadata": {},
     "output_type": "execute_result"
    }
   ],
   "source": [
    "len(clean)"
   ]
  },
  {
   "cell_type": "code",
   "execution_count": 291,
   "metadata": {
    "scrolled": false
   },
   "outputs": [
    {
     "data": {
      "text/plain": [
       "89"
      ]
     },
     "execution_count": 291,
     "metadata": {},
     "output_type": "execute_result"
    }
   ],
   "source": [
    "len(lis_ck[0])"
   ]
  },
  {
   "cell_type": "code",
   "execution_count": 294,
   "metadata": {},
   "outputs": [
    {
     "name": "stderr",
     "output_type": "stream",
     "text": [
      "MovieWriter ffmpeg unavailable. Trying to use pillow instead.\n"
     ]
    },
    {
     "data": {
      "image/png": "[encoded data removed]",
      "text/plain": [
       "<Figure size 432x288 with 1 Axes>"
      ]
     },
     "metadata": {
      "needs_background": "light"
     },
     "output_type": "display_data"
    }
   ],
   "source": [
    "import matplotlib.pyplot as plt\n",
    "import matplotlib.animation as animation\n",
    "curre_pos = start1\n",
    "fig = plt.figure()\n",
    "figsize = (10,10)\n",
    "ims = []\n",
    "cmap = \"Blues\"#plt.cm.binary\n",
    "mz2 = mz1.copy()\n",
    "conta = 0\n",
    "for i in clean: # cw[::-1][0]\n",
    "        current_pos2 = moving(mz = mz2,seq =i,current_pos = curre_pos)\n",
    "        mz2[current_pos2] = 4\n",
    "        im =  plt.imshow(mz2,interpolation='nearest', cmap=cmap)#, animated=True\n",
    "        ims.append([im])\n",
    "    #mz2 = mz1.copy()\n",
    "        curre_pos = current_pos2\n",
    "ani = animation.ArtistAnimation(fig, ims, interval=50, blit=True,repeat_delay=1000)\n",
    "\n",
    "ani.save('prova2.gif', dpi=100)\n",
    "\n",
    "plt.show()\n",
    "#plt.pause(1)\n",
    "#ani = animation.FuncAnimation(fig, curre_pos)\n"
   ]
  }
 ],
 "metadata": {
  "kernelspec": {
   "display_name": "Python 3",
   "language": "python",
   "name": "python3"
  },
  "language_info": {
   "codemirror_mode": {
    "name": "ipython",
    "version": 3
   },
   "file_extension": ".py",
   "mimetype": "text/x-python",
   "name": "python",
   "nbconvert_exporter": "python",
   "pygments_lexer": "ipython3",
   "version": "3.7.3"
  }
 },
 "nbformat": 4,
 "nbformat_minor": 2
}
