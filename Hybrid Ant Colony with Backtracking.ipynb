{
 "cells": [
  {
   "cell_type": "code",
   "execution_count": 1,
   "metadata": {},
   "outputs": [],
   "source": [
    "import pandas as pd\n",
    "import numpy as np\n",
    "from random import randrange\n",
    "import numpy as np\n",
    "from numpy.random import random_integers as rnd\n",
    "import matplotlib.pyplot as plt\n",
    "import math"
   ]
  },
  {
   "cell_type": "code",
   "execution_count": 2,
   "metadata": {},
   "outputs": [],
   "source": [
    "def maze(width=80, height=40, complexity=.75, density =.75):\n",
    "    # Only odd shapes\n",
    "    shape = ((height//2)*2+1, (width//2)*2+1)\n",
    "    # Adjust complexity and density relative to maze size\n",
    "    complexity = int(complexity*(5*(shape[0]+shape[1])))\n",
    "    density    = int(density*(shape[0]//2*shape[1]//2))\n",
    "    # Build actual maze\n",
    "    Z = np.zeros(shape)\n",
    "    # Fill borders\n",
    "    Z[0,:] = Z[-1,:] = 1\n",
    "    Z[:,0] = Z[:,-1] = 1\n",
    "    # Make isles\n",
    "    for i in range(density):\n",
    "        x, y = rnd(0,shape[1]//2)*2, rnd(0,shape[0]//2)*2\n",
    "        Z[y,x] = 1\n",
    "        for j in range(complexity):\n",
    "            neighbours = []\n",
    "            if x > 1:           neighbours.append( (y,x-2) )\n",
    "            if x < shape[1]-2:  neighbours.append( (y,x+2) )\n",
    "            if y > 1:           neighbours.append( (y-2,x) )\n",
    "            if y < shape[0]-2:  neighbours.append( (y+2,x) )\n",
    "            if len(neighbours):\n",
    "                y_,x_ = neighbours[rnd(0,len(neighbours)-1)]\n",
    "                if Z[y_,x_] == 0:\n",
    "                    Z[y_,x_] = 1\n",
    "                    Z[y_+(y-y_)//2, x_+(x-x_)//2] = 1\n",
    "                    x, y = x_, y_\n",
    "    return Z"
   ]
  },
  {
   "cell_type": "code",
   "execution_count": 3,
   "metadata": {},
   "outputs": [],
   "source": [
    "def create_mz(width = 80, height = 40):\n",
    "    mz = maze(width, height)\n",
    "    for i in range(100):\n",
    "        x = randrange(mz.shape[1]-1) #start 2\n",
    "        y = randrange(mz.shape[1]-1) #end 3\n",
    "        if (x!=0 & x!=(randrange(mz.shape[1]-1)) & y!=0 & y!=(randrange(mz.shape[1]-1)) &(mz[1][y]!=1) & (mz[mz.shape[0]-2][x]!=1)):\n",
    "            mz[mz.shape[0]-1][x] = 2\n",
    "            mz[0][y] = 3\n",
    "            break\n",
    "    start = (mz.shape[0]-1,x)\n",
    "    end = (0, y)\n",
    "    return(mz, start, end)"
   ]
  },
  {
   "cell_type": "code",
   "execution_count": 4,
   "metadata": {},
   "outputs": [],
   "source": [
    "def moving(mz, seq, current_pos):\n",
    "    for i in seq:\n",
    "        if ((i == 'n') & (current_pos[0]!=0)):\n",
    "            if((mz[current_pos[0]-1, current_pos[1]]!=1)):\n",
    "                current_pos = (current_pos[0]-1, current_pos[1])\n",
    "        if ((i == 's') & (current_pos[0]!=(mz.shape[0]-1))):\n",
    "            if((mz[current_pos[0] + 1, current_pos[1]]!=1)):\n",
    "                current_pos = (current_pos[0]+1, current_pos[1])\n",
    "        if ((i == 'w') & (mz[(current_pos[0], current_pos[1]-1)]!=1)):\n",
    "            current_pos = (current_pos[0], current_pos[1]-1)\n",
    "        if ((i == 'e') & (mz[(current_pos[0], current_pos[1]+1)]!=1)):\n",
    "            current_pos = (current_pos[0], current_pos[1]+1)\n",
    "    return(current_pos)"
   ]
  },
  {
   "cell_type": "code",
   "execution_count": 5,
   "metadata": {},
   "outputs": [],
   "source": [
    "def display_current_pos(mz, current_pos, figsize=(6,4), cmap = plt.cm.binary):\n",
    "    mz2 = mz.copy()\n",
    "    mz2[current_pos] = 4\n",
    "    plt.figure(figsize=figsize)\n",
    "    plt.imshow(mz2,interpolation='nearest', cmap=cmap)\n",
    "    plt.xticks([]),plt.yticks([])\n",
    "    plt.show()"
   ]
  },
  {
   "cell_type": "code",
   "execution_count": 6,
   "metadata": {},
   "outputs": [],
   "source": [
    "def display_action_sequence(mz, seq, current_pos, figsize = (6,4), cmap = plt.cm.binary):\n",
    "    mz2 = mz.copy()\n",
    "    for i in seq:\n",
    "        current_pos = moving(mz, i, current_pos)\n",
    "        mz2[current_pos] = 4\n",
    "    plt.figure(figsize=figsize)\n",
    "    plt.imshow(mz2,interpolation='nearest', cmap=cmap) #plt.cm.binary\n",
    "    plt.xticks([]),plt.yticks([])\n",
    "    plt.show()"
   ]
  },
  {
   "cell_type": "markdown",
   "metadata": {},
   "source": [
    "# Hybrid Ant Colony with Backtracking"
   ]
  },
  {
   "cell_type": "code",
   "execution_count": 7,
   "metadata": {},
   "outputs": [
    {
     "name": "stderr",
     "output_type": "stream",
     "text": [
      "C:\\Users\\giorgio1\\Anaconda3\\lib\\site-packages\\ipykernel_launcher.py:14: DeprecationWarning: This function is deprecated. Please call randint(0, 5 + 1) instead\n",
      "  \n",
      "C:\\Users\\giorgio1\\Anaconda3\\lib\\site-packages\\ipykernel_launcher.py:23: DeprecationWarning: This function is deprecated. Please call randint(0, 3 + 1) instead\n",
      "C:\\Users\\giorgio1\\Anaconda3\\lib\\site-packages\\ipykernel_launcher.py:23: DeprecationWarning: This function is deprecated. Please call randint(0, 2 + 1) instead\n"
     ]
    }
   ],
   "source": [
    "mz, start, end = create_mz(width=10,height=10)"
   ]
  },
  {
   "cell_type": "code",
   "execution_count": 8,
   "metadata": {},
   "outputs": [],
   "source": [
    "def actions_val(gridWorld, ant_pos, start, end):\n",
    "    #print(ant_pos)\n",
    "    #print(start)\n",
    "    value_act = []\n",
    "    if (ant_pos == start):\n",
    "        #print('ok')\n",
    "        value_act = [0, float('nan'), float('nan'), float('nan')]\n",
    "    elif (ant_pos == end):\n",
    "        value_act = [float('nan'), 0, float('nan'), float('nan')]\n",
    "    else:\n",
    "        for i in actions:\n",
    "            if (i == \"n\"):\n",
    "                value_act.append(gridWorld[(ant_pos[0]-1, ant_pos[1])])\n",
    "            if (i == \"s\"):\n",
    "                value_act.append(gridWorld[(ant_pos[0]+1, ant_pos[1])])\n",
    "            if (i == \"e\"):\n",
    "                value_act.append(gridWorld[(ant_pos[0], ant_pos[1]+1)])\n",
    "            if (i == \"w\"):\n",
    "                value_act.append(gridWorld[(ant_pos[0], ant_pos[1]-1)])  \n",
    "    return(value_act)"
   ]
  },
  {
   "cell_type": "code",
   "execution_count": 9,
   "metadata": {},
   "outputs": [],
   "source": [
    "def is_decision_node(gridWorld, ant_pos, start, end, ant):\n",
    "    b = False\n",
    "    if (ant_pos == start):\n",
    "        b = True\n",
    "    if (ant_pos == end):\n",
    "        b = True\n",
    "    value_act = actions_val(gridWorld, ant_pos, start, end)\n",
    "    non_zeros = np.count_nonzero(value_act)\n",
    "    if (non_zeros <= 2):\n",
    "        b = True\n",
    "    how_many_ants = len(actions) - non_zeros\n",
    "    if(ant['n_visited_nodes']==1)&(gridWorld[ant_pos]>900):\n",
    "        b = True\n",
    "    return b, how_many_ants"
   ]
  },
  {
   "cell_type": "code",
   "execution_count": 10,
   "metadata": {},
   "outputs": [],
   "source": [
    "def moving_ant(gridWorld, ant_pos, start, end, ant):\n",
    "    nm = np.nanmin(actions_val(gridWorld,ant_pos, start, end))\n",
    "    if ((ant['n_visited_nodes']==1) & (np.nanmax(actions_val(gridWorld,ant_pos, start, end)) > 900) & (nm!=0)):\n",
    "        a = np.nanargmax(actions_val(gridWorld,ant_pos, start, end))\n",
    "        if(ant['start_node']!=moving(mz, seq = actions[a], current_pos = ant_pos )):\n",
    "            action_idx = a\n",
    "                #print(actions_val(gridWorld,ant_pos, start, end), actions[action_idx], ant_pos)\n",
    "        else:\n",
    "            action_idx = np.nanargmin(actions_val(gridWorld,ant_pos, start, end))\n",
    "    else:\n",
    "        action_idx = np.nanargmin(actions_val(gridWorld,ant_pos, start, end))\n",
    "    #print(ant_pos, actions_val(gridWorld,ant_pos, start, end), ant['n_visited_nodes'], np.nanmax(actions_val(gridWorld,ant_pos, start, end)), np.nanmin(actions_val(gridWorld,ant_pos, start, end)), actions[action_idx])\n",
    "    return(actions[action_idx]) "
   ]
  },
  {
   "cell_type": "code",
   "execution_count": 11,
   "metadata": {},
   "outputs": [],
   "source": [
    "def update_grid_after_action(gridWorld, ant_pos):\n",
    "    if(gridWorld[ant_pos]==0):\n",
    "        gridWorld[ant_pos] = 1\n",
    "    return gridWorld"
   ]
  },
  {
   "cell_type": "code",
   "execution_count": 12,
   "metadata": {},
   "outputs": [],
   "source": [
    "def training (gridWorld, max_iter = 200, start = start, end = end):\n",
    "    n_ants = 0\n",
    "    ants = {}\n",
    "    ant_info = {}\n",
    "    ant_info['position'] = start\n",
    "    ant_info['start_node'] = start\n",
    "    ant_info['n_visited_nodes'] = 1 #visto che parte da start che è un nodo, allora n_visited_nodes è 1\n",
    "    ant_info['actions'] = []\n",
    "    ants[\"ant{0}\".format(n_ants)] = ant_info\n",
    "    for i in range(max_iter):\n",
    "        #print(gridWorld,ants)\n",
    "        for j in range(len(ants)):\n",
    "            n_visited_nodes = ants[\"ant{0}\".format(j)]['n_visited_nodes']\n",
    "            if (n_visited_nodes < 2 ):\n",
    "                ant_pos = ants[\"ant{0}\".format(j)]['position']\n",
    "                action = moving_ant(gridWorld, ant_pos, start, end, ants[\"ant{0}\".format(j)])\n",
    "                ants[\"ant{0}\".format(j)]['actions'].append(action)\n",
    "                ants[\"ant{0}\".format(j)]['position'] = moving(mz, seq = action, current_pos = ant_pos)\n",
    "                ant_pos = ants[\"ant{0}\".format(j)]['position']\n",
    "                gridWorld = update_grid_after_action(gridWorld, ant_pos)\n",
    "                b, how_many_ants = is_decision_node(gridWorld,ant_pos, start, end, ants[\"ant{0}\".format(j)])\n",
    "                if (b == True):\n",
    "                    gridWorld[ant_pos] = 999\n",
    "                    ants[\"ant{0}\".format(j)]['n_visited_nodes'] += 1\n",
    "                    if(ants[\"ant{0}\".format(j)]['n_visited_nodes'] == 2):\n",
    "                        ants[\"ant{0}\".format(j)]['end_node'] = ant_pos\n",
    "                    for i in range(how_many_ants):\n",
    "                        n_ants += 1\n",
    "                        ant_info = {}\n",
    "                        ant_info['position'] = ant_pos\n",
    "                        ant_info['n_visited_nodes'] = 1\n",
    "                        ant_info['start_node'] = ant_pos\n",
    "                        ant_info['actions'] = []\n",
    "                        ants[\"ant{0}\".format(n_ants)] = ant_info\n",
    "            gridWorld = gridWorld * 0.9999 #evaporazione del feromone\n",
    "            if (ant_pos == end):\n",
    "                break\n",
    "    return gridWorld, ants"
   ]
  },
  {
   "cell_type": "code",
   "execution_count": 13,
   "metadata": {},
   "outputs": [],
   "source": [
    "def best_move(gridWorld, ant_pos, start, end):\n",
    "    value_act = actions_val(gridWorld, ant_pos, start, end)\n",
    "    #print(ant_pos, gridWorld, value_act)\n",
    "    #print(gridWorld)\n",
    "    for i in range(len(value_act)):\n",
    "        #print( type(value_act[i]), value_act[i] )\n",
    "        #print(value_act[i], ant_pos, value_act)\n",
    "        if(value_act[i] > 200): #se è un decision node\n",
    "            if (i == 0):\n",
    "                pos = moving(mz, seq = 'n', current_pos = ant_pos)\n",
    "                if (np.nanmax(actions_val(gridWorld, pos, start, end)) > 200): # se c'è un altro decision node\n",
    "                    index = np.nanargmax(actions_val(gridWorld, pos, start, end)) #indice dell'azione che mi porta nel decision node\n",
    "                    p = moving(mz, seq = actions[index], current_pos = ant_pos) #posizione in cui si trova il decision node\n",
    "                    min_p = np.nanmin(actions_val(gridWorld, p, start, end))\n",
    "                    if (min_p < np.nanmin(actions_val(gridWorld, pos, start, end))):\n",
    "                        value_act[i] = index\n",
    "                    else:\n",
    "                        value_act[i] = np.nanargmin(actions_val(gridWorld, pos, start, end))\n",
    "                else:\n",
    "                    value_act[i] = np.nanargmin(actions_val(gridWorld, pos, start, end))\n",
    "            if (i == 1):\n",
    "                pos = moving(mz, seq = 's', current_pos = ant_pos)\n",
    "                if (np.nanmax(actions_val(gridWorld, pos, start, end)) > 200): # se c'è un altro decision node\n",
    "                    index = np.nanargmax(actions_val(gridWorld, pos, start, end)) #indice dell'azione che mi porta nel decision node\n",
    "                    p = moving(mz, seq = actions[index], current_pos = ant_pos) #posizione in cui si trova il decision node\n",
    "                    min_p = np.nanmin(actions_val(gridWorld, p, start, end))\n",
    "                    if (min_p < np.nanmin(actions_val(gridWorld, pos, start, end))):\n",
    "                        value_act[i] = index\n",
    "                    else:\n",
    "                        value_act[i] = np.nanargmin(actions_val(gridWorld, pos, start, end))\n",
    "                else:\n",
    "                    value_act[i] = np.nanargmin(actions_val(gridWorld, pos, start, end))\n",
    "            if (i == 2):\n",
    "                pos = moving(mz, seq = 'e', current_pos = ant_pos)\n",
    "                if (np.nanmax(actions_val(gridWorld, pos, start, end)) > 200): # se c'è un altro decision node\n",
    "                    index = np.nanargmax(actions_val(gridWorld, pos, start, end)) #indice dell'azione che mi porta nel decision node\n",
    "                    p = moving(mz, seq = actions[index], current_pos = ant_pos) #posizione in cui si trova il decision node\n",
    "                    min_p = np.nanmin(actions_val(gridWorld, p, start, end))\n",
    "                    if (min_p < np.nanmin(actions_val(gridWorld, pos, start, end))):\n",
    "                        value_act[i] = index\n",
    "                    else:\n",
    "                        value_act[i] = np.nanargmin(actions_val(gridWorld, pos, start, end))\n",
    "                else:\n",
    "                    value_act[i] = np.nanargmin(actions_val(gridWorld, pos, start, end))\n",
    "            if (i == 3):\n",
    "                pos = moving(mz, seq = 'w', current_pos = ant_pos)\n",
    "                if (np.nanmax(actions_val(gridWorld, pos, start, end)) > 200): # se c'è un altro decision node\n",
    "                    index = np.nanargmax(actions_val(gridWorld, pos, start, end)) #indice dell'azione che mi porta nel decision node\n",
    "                    p = moving(mz, seq = actions[index], current_pos = ant_pos) #posizione in cui si trova il decision node\n",
    "                    min_p = np.nanmin(actions_val(gridWorld, p, start, end))\n",
    "                    if (min_p < np.nanmin(actions_val(gridWorld, pos, start, end))):\n",
    "                        value_act[i] = index\n",
    "                    else:\n",
    "                        value_act[i] = np.nanargmin(actions_val(gridWorld, pos, start, end))\n",
    "                else:\n",
    "                    value_act[i] = np.nanargmin(actions_val(gridWorld, pos, start, end))\n",
    "    #if (i == 3):\n",
    "        #pos = moving(mz, seq = 'w', current_pos = ant_pos)\n",
    "        #value_act[i] = np.nanargmin(actions_val(gridWorld, pos, start, end))\n",
    "    #print(ant_pos, value_act)\n",
    "    action_idx = np.nanargmin(value_act)\n",
    "    return(actions[action_idx])"
   ]
  },
  {
   "cell_type": "markdown",
   "metadata": {},
   "source": [
    "def bm(gridWorld, ant_pos, start, end):\n",
    "    value_act = actions_val(gridWorld, ant_pos, start, end)\n",
    "    #print(ant_pos, gridWorld, value_act)\n",
    "    #print(gridWorld)\n",
    "    for i in range(len(value_act)):\n",
    "        #print( type(value_act[i]), value_act[i] )\n",
    "        #print(value_act[i], ant_pos, value_act)\n",
    "        if(value_act[i] > 200): #se è un decision node\n",
    "            if (i == 0):\n",
    "                pos = moving(mz, seq = 'n', current_pos = ant_pos)\n",
    "                value_act[i] = np.nanargmin(actions_val(gridWorld, pos, start, end))\n",
    "            if (i == 1):\n",
    "                pos = moving(mz, seq = 's', current_pos = ant_pos)\n",
    "                value_act[i] = np.nanargmin(actions_val(gridWorld, pos, start, end))\n",
    "            if (i == 2):\n",
    "                pos = moving(mz, seq = 'e', current_pos = ant_pos)\n",
    "                value_act[i] = np.nanargmin(actions_val(gridWorld, pos, start, end))\n",
    "            if (i == 3):\n",
    "                pos = moving(mz, seq = 'w', current_pos = ant_pos)\n",
    "                value_act[i] = np.nanargmin(actions_val(gridWorld, pos, start, end))\n",
    "    action_idx = np.nanargmin(value_act)\n",
    "    return(actions[action_idx])"
   ]
  },
  {
   "cell_type": "code",
   "execution_count": 14,
   "metadata": {},
   "outputs": [],
   "source": [
    "def inverse_action_sequence(seq):\n",
    "    seq = seq[::-1]\n",
    "    out =[]\n",
    "    for i in seq:\n",
    "        if (i == \"n\"):\n",
    "            out.append('s')\n",
    "        if (i == \"s\"):\n",
    "            out.append('n')\n",
    "        if (i == \"e\"):\n",
    "            out.append('w')\n",
    "        if (i == \"w\"):\n",
    "            out.append('e')\n",
    "    return out"
   ]
  },
  {
   "cell_type": "code",
   "execution_count": 15,
   "metadata": {},
   "outputs": [],
   "source": [
    "def best_seq(gridWorld, start, end):\n",
    "    gridWorld = prepare_grid(gridWorld)\n",
    "    gridWorld[start] = 0\n",
    "    end_ = False\n",
    "    ant_pos = end\n",
    "    best_moves = []\n",
    "    while (end_!=True): #for i in range(40): #\n",
    "        #print(best_moves)\n",
    "        #gridWorld[ant_pos] = 50 #messa ora\n",
    "        action = best_move(gridWorld, ant_pos, start, end)\n",
    "        best_moves.append(action)\n",
    "        gridWorld[ant_pos] = 50 \n",
    "        ant_pos = moving(mz, seq = action, current_pos = ant_pos)\n",
    "        if (ant_pos == start):\n",
    "            break\n",
    "    best_moves.append(ant_pos)\n",
    "    best_moves = inverse_action_sequence(best_moves)\n",
    "    return(best_moves)"
   ]
  },
  {
   "cell_type": "code",
   "execution_count": 16,
   "metadata": {},
   "outputs": [],
   "source": [
    "def prepare_grid(gridWorld):\n",
    "    gridWorld[gridWorld==0] = 15 #per cercare la soluzione ottimale non passare sopra le celle con valore 0\n",
    "    nodes = gridWorld[gridWorld>50]\n",
    "    pos_nodes = []\n",
    "    for i in nodes:\n",
    "        x,y = np.where(gridWorld == i)\n",
    "        pos_nodes.append((int(x),int(y)))\n",
    "    for i in pos_nodes:\n",
    "        value_act = actions_val(gridWorld, i, start, end)\n",
    "        min_v_act = np.nanmin(value_act)\n",
    "        if(np.nanmax(value_act)>200):\n",
    "            index = np.nanargmax(actions_val(gridWorld, i, start, end)) #indice dell'azione che mi porta nel decision node\n",
    "            p = moving(mz, seq = actions[index], current_pos = i) #posizione in cui si trova il decision node\n",
    "            min_p = np.nanmin(actions_val(gridWorld, p, start, end))\n",
    "            if (min_p < np.nanmin(actions_val(gridWorld, i, start, end))):\n",
    "                gridWorld[i] = min_p\n",
    "            else:\n",
    "                gridWorld[i] = np.nanmin(actions_val(gridWorld, i, start, end))\n",
    "        else:\n",
    "            gridWorld[i] = np.nanmin(actions_val(gridWorld, i, start, end))\n",
    "    return gridWorld"
   ]
  },
  {
   "cell_type": "markdown",
   "metadata": {},
   "source": [
    "# Try the Algorithm"
   ]
  },
  {
   "cell_type": "code",
   "execution_count": 64,
   "metadata": {},
   "outputs": [
    {
     "name": "stderr",
     "output_type": "stream",
     "text": [
      "C:\\Users\\giorgio1\\Anaconda3\\lib\\site-packages\\ipykernel_launcher.py:14: DeprecationWarning: This function is deprecated. Please call randint(0, 250 + 1) instead\n",
      "  \n",
      "C:\\Users\\giorgio1\\Anaconda3\\lib\\site-packages\\ipykernel_launcher.py:23: DeprecationWarning: This function is deprecated. Please call randint(0, 3 + 1) instead\n",
      "C:\\Users\\giorgio1\\Anaconda3\\lib\\site-packages\\ipykernel_launcher.py:23: DeprecationWarning: This function is deprecated. Please call randint(0, 2 + 1) instead\n",
      "C:\\Users\\giorgio1\\Anaconda3\\lib\\site-packages\\ipykernel_launcher.py:23: DeprecationWarning: This function is deprecated. Please call randint(0, 1 + 1) instead\n"
     ]
    },
    {
     "name": "stdout",
     "output_type": "stream",
     "text": [
      "Wall time: 12min 46s\n"
     ]
    }
   ],
   "source": [
    "%%time\n",
    "mz, start, end = create_mz(width=500,height=500)\n",
    "actions = ['n', 's', 'e','w']\n",
    "gridWorld = mz.copy()\n",
    "gridWorld[gridWorld == 1] = float('nan')\n",
    "gridWorld[gridWorld == 0] = 0\n",
    "gridWorld[gridWorld == 2] = 0\n",
    "gridWorld[gridWorld == 3] = 0\n",
    "gridWorld[start]=0\n",
    "gridWorld[end]=0"
   ]
  },
  {
   "cell_type": "code",
   "execution_count": 65,
   "metadata": {},
   "outputs": [
    {
     "name": "stdout",
     "output_type": "stream",
     "text": [
      "Wall time: 2h 2min 14s\n"
     ]
    }
   ],
   "source": [
    "%%time\n",
    "gridWorld, ants = training(gridWorld, max_iter= len(gridWorld[gridWorld==0]), start=start, end = end)"
   ]
  },
  {
   "cell_type": "code",
   "execution_count": 66,
   "metadata": {},
   "outputs": [
    {
     "data": {
      "text/plain": [
       "21966"
      ]
     },
     "execution_count": 66,
     "metadata": {},
     "output_type": "execute_result"
    }
   ],
   "source": [
    "len(gridWorld[gridWorld==0])"
   ]
  },
  {
   "cell_type": "code",
   "execution_count": null,
   "metadata": {},
   "outputs": [
    {
     "name": "stderr",
     "output_type": "stream",
     "text": [
      "C:\\Users\\giorgio1\\Anaconda3\\lib\\site-packages\\ipykernel_launcher.py:3: RuntimeWarning: invalid value encountered in greater\n",
      "  This is separate from the ipykernel package so we can avoid doing imports until\n"
     ]
    }
   ],
   "source": [
    "s = best_seq(gridWorld=gridWorld, start=start, end=end)"
   ]
  },
  {
   "cell_type": "code",
   "execution_count": null,
   "metadata": {},
   "outputs": [],
   "source": [
    "display_action_sequence(mz, s, start, figsize=(8,8))"
   ]
  }
 ],
 "metadata": {
  "kernelspec": {
   "display_name": "Python 3",
   "language": "python",
   "name": "python3"
  },
  "language_info": {
   "codemirror_mode": {
    "name": "ipython",
    "version": 3
   },
   "file_extension": ".py",
   "mimetype": "text/x-python",
   "name": "python",
   "nbconvert_exporter": "python",
   "pygments_lexer": "ipython3",
   "version": "3.6.5"
  }
 },
 "nbformat": 4,
 "nbformat_minor": 2
}
