{
 "cells": [
  {
   "cell_type": "code",
   "execution_count": 110,
   "metadata": {},
   "outputs": [],
   "source": [
    "import pandas as pd\n",
    "import numpy as np\n",
    "from random import randrange\n",
    "import numpy as np\n",
    "from numpy.random import random_integers as rnd\n",
    "import matplotlib.pyplot as plt"
   ]
  },
  {
   "cell_type": "code",
   "execution_count": 111,
   "metadata": {},
   "outputs": [],
   "source": [
    "def maze(width=80, height=40, complexity=.75, density =.75):\n",
    "    # Only odd shapes\n",
    "    shape = ((height//2)*2+1, (width//2)*2+1)\n",
    "    # Adjust complexity and density relative to maze size\n",
    "    complexity = int(complexity*(5*(shape[0]+shape[1])))\n",
    "    density    = int(density*(shape[0]//2*shape[1]//2))\n",
    "    # Build actual maze\n",
    "    Z = np.zeros(shape)\n",
    "    # Fill borders\n",
    "    Z[0,:] = Z[-1,:] = 1\n",
    "    Z[:,0] = Z[:,-1] = 1\n",
    "    # Make isles\n",
    "    for i in range(density):\n",
    "        x, y = rnd(0,shape[1]//2)*2, rnd(0,shape[0]//2)*2\n",
    "        Z[y,x] = 1\n",
    "        for j in range(complexity):\n",
    "            neighbours = []\n",
    "            if x > 1:           neighbours.append( (y,x-2) )\n",
    "            if x < shape[1]-2:  neighbours.append( (y,x+2) )\n",
    "            if y > 1:           neighbours.append( (y-2,x) )\n",
    "            if y < shape[0]-2:  neighbours.append( (y+2,x) )\n",
    "            if len(neighbours):\n",
    "                y_,x_ = neighbours[rnd(0,len(neighbours)-1)]\n",
    "                if Z[y_,x_] == 0:\n",
    "                    Z[y_,x_] = 1\n",
    "                    Z[y_+(y-y_)//2, x_+(x-x_)//2] = 1\n",
    "                    x, y = x_, y_\n",
    "    return Z"
   ]
  },
  {
   "cell_type": "code",
   "execution_count": 112,
   "metadata": {},
   "outputs": [],
   "source": [
    "def create_mz(width = 80, height = 40):\n",
    "    mz = maze(width, height)\n",
    "    for i in range(100):\n",
    "        x = randrange(mz.shape[1]-1) #start 2\n",
    "        y = randrange(mz.shape[1]-1) #end 3\n",
    "        if (x!=0 & x!=(randrange(mz.shape[1]-1)) & y!=0 & y!=(randrange(mz.shape[1]-1)) &(mz[1][y]!=1) & (mz[mz.shape[0]-2][x]!=1)):\n",
    "            mz[mz.shape[0]-1][x] = 2\n",
    "            mz[0][y] = 3\n",
    "            break\n",
    "    start = (mz.shape[0]-1,x)\n",
    "    end = (0, y)\n",
    "    return(mz, start, end)"
   ]
  },
  {
   "cell_type": "code",
   "execution_count": 113,
   "metadata": {},
   "outputs": [],
   "source": [
    "def moving(mz, seq, current_pos):\n",
    "    for i in seq:\n",
    "        if ((i == 'n') & (current_pos[0]!=0)):\n",
    "            if((mz[current_pos[0]-1, current_pos[1]]!=1)):\n",
    "                current_pos = (current_pos[0]-1, current_pos[1])\n",
    "        if ((i == 's') & (current_pos[0]!=(mz.shape[0]-1))):\n",
    "            if((mz[current_pos[0] + 1, current_pos[1]]!=1)):\n",
    "                current_pos = (current_pos[0]+1, current_pos[1])\n",
    "        if ((i == 'w') & (mz[(current_pos[0], current_pos[1]-1)]!=1)):\n",
    "            current_pos = (current_pos[0], current_pos[1]-1)\n",
    "        if ((i == 'e') & (mz[(current_pos[0], current_pos[1]+1)]!=1)):\n",
    "            current_pos = (current_pos[0], current_pos[1]+1)\n",
    "    return(current_pos)"
   ]
  },
  {
   "cell_type": "code",
   "execution_count": 114,
   "metadata": {},
   "outputs": [],
   "source": [
    "def display_current_pos(mz, current_pos, figsize=(6,4), cmap = plt.cm.binary):\n",
    "    mz2 = mz.copy()\n",
    "    mz2[current_pos] = 4\n",
    "    plt.figure(figsize=figsize)\n",
    "    plt.imshow(mz2,interpolation='nearest', cmap=cmap)\n",
    "    plt.xticks([]),plt.yticks([])\n",
    "    plt.show()"
   ]
  },
  {
   "cell_type": "code",
   "execution_count": 115,
   "metadata": {},
   "outputs": [],
   "source": [
    "def display_action_sequence(mz, seq, current_pos, figsize = (6,4), cmap = plt.cm.binary):\n",
    "    mz2 = mz.copy()\n",
    "    for i in seq:\n",
    "        current_pos = moving(mz, i, current_pos)\n",
    "        mz2[current_pos] = 4\n",
    "    plt.figure(figsize=figsize)\n",
    "    plt.imshow(mz2,interpolation='nearest', cmap=cmap) #plt.cm.binary\n",
    "    plt.xticks([]),plt.yticks([])\n",
    "    plt.show()"
   ]
  },
  {
   "cell_type": "markdown",
   "metadata": {},
   "source": [
    "# Reinforcement Learning"
   ]
  },
  {
   "cell_type": "code",
   "execution_count": 128,
   "metadata": {},
   "outputs": [],
   "source": [
    "def training(nEpisodes, overEpisodes, epochesCount, epsilon, alpha, gamma, method):\n",
    "    for i in np.arange(0,nEpisodes):\n",
    "        if(i%(nEpisodes*0.10)==0):\n",
    "            #epsilon = epsilon*0.8\n",
    "            print(\"Episodio #\",i, \"\\n Q[start]:\", Q[start], \"\\n Q[(start[0] - 1, start[1])]: \", Q[(start[0] - 1, start[1])],\"\\n epochesCount: \", epochesCount )\n",
    "\n",
    "        s = s_initial = start # initial state\n",
    "        stop = False\n",
    "        while not stop:  \n",
    "            # epsilon-greedy policy\n",
    "            p = np.random.uniform()\n",
    "            if p < epsilon:\n",
    "                a = np.random.choice(actions) # random action\n",
    "            else:\n",
    "                a = actions[np.argmax(Q[s])]  # greedy action based on history information\n",
    "            s_ = moving(mz, seq=a, current_pos=s)    #mapAction(a) # translate string action to numeric action\n",
    "            r = gridWorld[s_]\n",
    "            overEpisodes[i] += r # counter reward accumulated in each episode\n",
    "            epochesCount[i] += 1 # counter of epoch in episode\n",
    "            ix = actions.index(a)\n",
    "            if (method=='Q_l'):\n",
    "                Q[s][ix] = Q[s][ix] + alpha * (r - 0.1 + gamma * np.max(Q[s_]) - Q[s][ix]) \n",
    "\n",
    "            if(method == 'Sarsa'):\n",
    "                p = np.random.uniform()\n",
    "                if p < epsilon:\n",
    "                    a_ = np.random.choice(actions)\n",
    "                else:\n",
    "                    a_ = actions[np.argmax(Q[s_])]\n",
    "                ix_ = actions.index(a_)\n",
    "                Q[s][ix] = Q[s][ix] + alpha * ( r - 0.1 + gamma * Q[s_][ix_] - Q[s][ix])\n",
    "\n",
    "            s = s_\n",
    "            if not r == 0:\n",
    "                stop = True"
   ]
  },
  {
   "cell_type": "code",
   "execution_count": 123,
   "metadata": {},
   "outputs": [],
   "source": [
    "#display_current_pos(mz, start, figsize=(15,10))"
   ]
  },
  {
   "cell_type": "code",
   "execution_count": 124,
   "metadata": {},
   "outputs": [],
   "source": [
    "actions = [\"n\",\"s\",\"e\",\"w\"] #north, south, east, west"
   ]
  },
  {
   "cell_type": "code",
   "execution_count": 125,
   "metadata": {},
   "outputs": [
    {
     "name": "stderr",
     "output_type": "stream",
     "text": [
      "C:\\Users\\giorgio1\\Anaconda3\\lib\\site-packages\\ipykernel_launcher.py:14: DeprecationWarning: This function is deprecated. Please call randint(0, 100 + 1) instead\n",
      "  \n",
      "C:\\Users\\giorgio1\\Anaconda3\\lib\\site-packages\\ipykernel_launcher.py:23: DeprecationWarning: This function is deprecated. Please call randint(0, 3 + 1) instead\n",
      "C:\\Users\\giorgio1\\Anaconda3\\lib\\site-packages\\ipykernel_launcher.py:23: DeprecationWarning: This function is deprecated. Please call randint(0, 2 + 1) instead\n",
      "C:\\Users\\giorgio1\\Anaconda3\\lib\\site-packages\\ipykernel_launcher.py:23: DeprecationWarning: This function is deprecated. Please call randint(0, 1 + 1) instead\n"
     ]
    }
   ],
   "source": [
    "mz, start, end = create_mz(width=200,height=200)\n",
    "gridWorld = mz.copy()\n",
    "gridWorld[gridWorld == 1] = float('nan')\n",
    "#gridWorld[gridWorld == 0] = 2 #optimistic initial values\n",
    "gridWorld[gridWorld == 2] = 0\n",
    "gridWorld[gridWorld == 3] = 10"
   ]
  },
  {
   "cell_type": "code",
   "execution_count": 126,
   "metadata": {},
   "outputs": [],
   "source": [
    "Q = np.zeros([mz.shape[0],mz.shape[1],len(actions)]) "
   ]
  },
  {
   "cell_type": "code",
   "execution_count": 127,
   "metadata": {},
   "outputs": [],
   "source": [
    "nEpisodes = 4000 #2000, 5000, 10000, 30000, 60000\n",
    "overEpisodes = np.zeros(nEpisodes)\n",
    "epochesCount = np.zeros(nEpisodes)\n",
    "epsilon = 0.1 # scelta greedy vs random (epsilon-greedy policy) \n",
    "alpha = 0.8 # learning rate\n",
    "gamma = 0.9 # discount factor\n",
    "method = 'Q_l'"
   ]
  },
  {
   "cell_type": "code",
   "execution_count": 129,
   "metadata": {},
   "outputs": [
    {
     "name": "stdout",
     "output_type": "stream",
     "text": [
      "Episodio # 0 \n",
      " Q[start]: [0. 0. 0. 0.] \n",
      " Q[(start[0] - 1, start[1])]:  [0. 0. 0. 0.] \n",
      " epochesCount:  [0. 0. 0. ... 0. 0. 0.]\n",
      "Episodio # 400 \n",
      " Q[start]: [-0.99999895 -0.99999898 -0.99999896 -0.99999899] \n",
      " Q[(start[0] - 1, start[1])]:  [-0.99999885 -0.99999896 -0.99999886 -0.99999886] \n",
      " epochesCount:  [ 72356. 163473. 256210. ...      0.      0.      0.]\n",
      "Episodio # 800 \n",
      " Q[start]: [-1. -1. -1. -1.] \n",
      " Q[(start[0] - 1, start[1])]:  [-1. -1. -1. -1.] \n",
      " epochesCount:  [ 72356. 163473. 256210. ...      0.      0.      0.]\n",
      "Episodio # 1200 \n",
      " Q[start]: [-1. -1. -1. -1.] \n",
      " Q[(start[0] - 1, start[1])]:  [-1. -1. -1. -1.] \n",
      " epochesCount:  [ 72356. 163473. 256210. ...      0.      0.      0.]\n",
      "Episodio # 1600 \n",
      " Q[start]: [-1. -1. -1. -1.] \n",
      " Q[(start[0] - 1, start[1])]:  [-1. -1. -1. -1.] \n",
      " epochesCount:  [ 72356. 163473. 256210. ...      0.      0.      0.]\n",
      "Episodio # 2000 \n",
      " Q[start]: [-1. -1. -1. -1.] \n",
      " Q[(start[0] - 1, start[1])]:  [-1. -1. -1. -1.] \n",
      " epochesCount:  [ 72356. 163473. 256210. ...      0.      0.      0.]\n",
      "Episodio # 2400 \n",
      " Q[start]: [-1. -1. -1. -1.] \n",
      " Q[(start[0] - 1, start[1])]:  [-1. -1. -1. -1.] \n",
      " epochesCount:  [ 72356. 163473. 256210. ...      0.      0.      0.]\n",
      "Episodio # 2800 \n",
      " Q[start]: [-1. -1. -1. -1.] \n",
      " Q[(start[0] - 1, start[1])]:  [-1. -1. -1. -1.] \n",
      " epochesCount:  [ 72356. 163473. 256210. ...      0.      0.      0.]\n"
     ]
    },
    {
     "ename": "KeyboardInterrupt",
     "evalue": "",
     "output_type": "error",
     "traceback": [
      "\u001b[1;31m---------------------------------------------------------------------------\u001b[0m",
      "\u001b[1;31mKeyboardInterrupt\u001b[0m                         Traceback (most recent call last)",
      "\u001b[1;32m<timed eval>\u001b[0m in \u001b[0;36m<module>\u001b[1;34m()\u001b[0m\n",
      "\u001b[1;32m<ipython-input-128-7d9b9a13769b>\u001b[0m in \u001b[0;36mtraining\u001b[1;34m(nEpisodes, overEpisodes, epochesCount, epsilon, alpha, gamma, method)\u001b[0m\n\u001b[0;32m      9\u001b[0m         \u001b[1;32mwhile\u001b[0m \u001b[1;32mnot\u001b[0m \u001b[0mstop\u001b[0m\u001b[1;33m:\u001b[0m\u001b[1;33m\u001b[0m\u001b[0m\n\u001b[0;32m     10\u001b[0m             \u001b[1;31m# epsilon-greedy policy\u001b[0m\u001b[1;33m\u001b[0m\u001b[1;33m\u001b[0m\u001b[0m\n\u001b[1;32m---> 11\u001b[1;33m             \u001b[0mp\u001b[0m \u001b[1;33m=\u001b[0m \u001b[0mnp\u001b[0m\u001b[1;33m.\u001b[0m\u001b[0mrandom\u001b[0m\u001b[1;33m.\u001b[0m\u001b[0muniform\u001b[0m\u001b[1;33m(\u001b[0m\u001b[1;33m)\u001b[0m\u001b[1;33m\u001b[0m\u001b[0m\n\u001b[0m\u001b[0;32m     12\u001b[0m             \u001b[1;32mif\u001b[0m \u001b[0mp\u001b[0m \u001b[1;33m<\u001b[0m \u001b[0mepsilon\u001b[0m\u001b[1;33m:\u001b[0m\u001b[1;33m\u001b[0m\u001b[0m\n\u001b[0;32m     13\u001b[0m                 \u001b[0ma\u001b[0m \u001b[1;33m=\u001b[0m \u001b[0mnp\u001b[0m\u001b[1;33m.\u001b[0m\u001b[0mrandom\u001b[0m\u001b[1;33m.\u001b[0m\u001b[0mchoice\u001b[0m\u001b[1;33m(\u001b[0m\u001b[0mactions\u001b[0m\u001b[1;33m)\u001b[0m \u001b[1;31m# random action\u001b[0m\u001b[1;33m\u001b[0m\u001b[0m\n",
      "\u001b[1;31mKeyboardInterrupt\u001b[0m: "
     ]
    }
   ],
   "source": [
    "%%time\n",
    "training(nEpisodes, overEpisodes, epochesCount, epsilon, alpha, gamma, method)"
   ]
  },
  {
   "cell_type": "code",
   "execution_count": 93,
   "metadata": {},
   "outputs": [
    {
     "ename": "KeyboardInterrupt",
     "evalue": "",
     "output_type": "error",
     "traceback": [
      "\u001b[1;31m---------------------------------------------------------------------------\u001b[0m",
      "\u001b[1;31mKeyboardInterrupt\u001b[0m                         Traceback (most recent call last)",
      "\u001b[1;32m<ipython-input-93-bb85a30cede7>\u001b[0m in \u001b[0;36m<module>\u001b[1;34m()\u001b[0m\n\u001b[0;32m      2\u001b[0m \u001b[0mbest_actions\u001b[0m \u001b[1;33m=\u001b[0m \u001b[1;33m[\u001b[0m\u001b[1;33m]\u001b[0m\u001b[1;33m\u001b[0m\u001b[0m\n\u001b[0;32m      3\u001b[0m \u001b[1;32mwhile\u001b[0m \u001b[0mmz\u001b[0m\u001b[1;33m[\u001b[0m\u001b[0ms\u001b[0m\u001b[1;33m]\u001b[0m\u001b[1;33m!=\u001b[0m\u001b[1;36m3\u001b[0m\u001b[1;33m:\u001b[0m \u001b[1;31m#for i in range(33):\u001b[0m\u001b[1;33m\u001b[0m\u001b[0m\n\u001b[1;32m----> 4\u001b[1;33m     \u001b[0ma\u001b[0m \u001b[1;33m=\u001b[0m \u001b[0mactions\u001b[0m\u001b[1;33m[\u001b[0m\u001b[0mnp\u001b[0m\u001b[1;33m.\u001b[0m\u001b[0margmax\u001b[0m\u001b[1;33m(\u001b[0m\u001b[0mQ\u001b[0m\u001b[1;33m[\u001b[0m\u001b[0ms\u001b[0m\u001b[1;33m]\u001b[0m\u001b[1;33m)\u001b[0m\u001b[1;33m]\u001b[0m\u001b[1;33m\u001b[0m\u001b[0m\n\u001b[0m\u001b[0;32m      5\u001b[0m     \u001b[0ms_\u001b[0m \u001b[1;33m=\u001b[0m \u001b[0mmoving\u001b[0m\u001b[1;33m(\u001b[0m\u001b[0mmz\u001b[0m\u001b[1;33m,\u001b[0m \u001b[0mseq\u001b[0m\u001b[1;33m=\u001b[0m\u001b[0ma\u001b[0m\u001b[1;33m,\u001b[0m \u001b[0mcurrent_pos\u001b[0m\u001b[1;33m=\u001b[0m\u001b[0ms\u001b[0m\u001b[1;33m)\u001b[0m\u001b[1;33m\u001b[0m\u001b[0m\n\u001b[0;32m      6\u001b[0m     \u001b[0ms\u001b[0m \u001b[1;33m=\u001b[0m \u001b[0ms_\u001b[0m\u001b[1;33m\u001b[0m\u001b[0m\n",
      "\u001b[1;32m~\\AppData\\Roaming\\Python\\Python36\\site-packages\\numpy\\core\\fromnumeric.py\u001b[0m in \u001b[0;36margmax\u001b[1;34m(a, axis, out)\u001b[0m\n\u001b[0;32m   1101\u001b[0m \u001b[1;33m\u001b[0m\u001b[0m\n\u001b[0;32m   1102\u001b[0m     \"\"\"\n\u001b[1;32m-> 1103\u001b[1;33m     \u001b[1;32mreturn\u001b[0m \u001b[0m_wrapfunc\u001b[0m\u001b[1;33m(\u001b[0m\u001b[0ma\u001b[0m\u001b[1;33m,\u001b[0m \u001b[1;34m'argmax'\u001b[0m\u001b[1;33m,\u001b[0m \u001b[0maxis\u001b[0m\u001b[1;33m=\u001b[0m\u001b[0maxis\u001b[0m\u001b[1;33m,\u001b[0m \u001b[0mout\u001b[0m\u001b[1;33m=\u001b[0m\u001b[0mout\u001b[0m\u001b[1;33m)\u001b[0m\u001b[1;33m\u001b[0m\u001b[0m\n\u001b[0m\u001b[0;32m   1104\u001b[0m \u001b[1;33m\u001b[0m\u001b[0m\n\u001b[0;32m   1105\u001b[0m \u001b[1;33m\u001b[0m\u001b[0m\n",
      "\u001b[1;32m~\\AppData\\Roaming\\Python\\Python36\\site-packages\\numpy\\core\\fromnumeric.py\u001b[0m in \u001b[0;36m_wrapfunc\u001b[1;34m(obj, method, *args, **kwds)\u001b[0m\n\u001b[0;32m     54\u001b[0m \u001b[1;32mdef\u001b[0m \u001b[0m_wrapfunc\u001b[0m\u001b[1;33m(\u001b[0m\u001b[0mobj\u001b[0m\u001b[1;33m,\u001b[0m \u001b[0mmethod\u001b[0m\u001b[1;33m,\u001b[0m \u001b[1;33m*\u001b[0m\u001b[0margs\u001b[0m\u001b[1;33m,\u001b[0m \u001b[1;33m**\u001b[0m\u001b[0mkwds\u001b[0m\u001b[1;33m)\u001b[0m\u001b[1;33m:\u001b[0m\u001b[1;33m\u001b[0m\u001b[0m\n\u001b[0;32m     55\u001b[0m     \u001b[1;32mtry\u001b[0m\u001b[1;33m:\u001b[0m\u001b[1;33m\u001b[0m\u001b[0m\n\u001b[1;32m---> 56\u001b[1;33m         \u001b[1;32mreturn\u001b[0m \u001b[0mgetattr\u001b[0m\u001b[1;33m(\u001b[0m\u001b[0mobj\u001b[0m\u001b[1;33m,\u001b[0m \u001b[0mmethod\u001b[0m\u001b[1;33m)\u001b[0m\u001b[1;33m(\u001b[0m\u001b[1;33m*\u001b[0m\u001b[0margs\u001b[0m\u001b[1;33m,\u001b[0m \u001b[1;33m**\u001b[0m\u001b[0mkwds\u001b[0m\u001b[1;33m)\u001b[0m\u001b[1;33m\u001b[0m\u001b[0m\n\u001b[0m\u001b[0;32m     57\u001b[0m \u001b[1;33m\u001b[0m\u001b[0m\n\u001b[0;32m     58\u001b[0m     \u001b[1;31m# An AttributeError occurs if the object does not have\u001b[0m\u001b[1;33m\u001b[0m\u001b[1;33m\u001b[0m\u001b[0m\n",
      "\u001b[1;31mKeyboardInterrupt\u001b[0m: "
     ]
    }
   ],
   "source": [
    "s = start\n",
    "best_actions = []\n",
    "while mz[s]!=3: #for i in range(33):\n",
    "    a = actions[np.argmax(Q[s])]\n",
    "    s_ = moving(mz, seq=a, current_pos=s) \n",
    "    s = s_\n",
    "    best_actions.append(a)"
   ]
  },
  {
   "cell_type": "code",
   "execution_count": 83,
   "metadata": {
    "scrolled": true
   },
   "outputs": [
    {
     "name": "stdout",
     "output_type": "stream",
     "text": [
      "in questo labirinto la sequenza migliore ha lunghezza:  129  con alpha:  0.8  e epsilon:  0.1 NB 4000 iterazioni\n"
     ]
    }
   ],
   "source": [
    "print(\"in questo labirinto la sequenza migliore ha lunghezza: \", len(best_actions), \" con alpha: \", alpha, \" e epsilon: \", epsilon , \"NB 4000 iterazioni\")"
   ]
  },
  {
   "cell_type": "markdown",
   "metadata": {},
   "source": [
    "# OPTIMIZATION"
   ]
  },
  {
   "cell_type": "code",
   "execution_count": 998,
   "metadata": {},
   "outputs": [],
   "source": [
    "def training2(nEpisodes, overEpisodes, epochesCount, epsilon, alpha, gamma, method, Q):\n",
    "    for i in np.arange(0,nEpisodes):\n",
    "        #if(i%(nEpisodes*0.10)==0):\n",
    "            #epsilon = epsilon*0.8\n",
    "            #print(\"Episodio #\",i, \"Epsilon \\n:\", epsilon)\n",
    "\n",
    "        s = s_initial = start # initial state\n",
    "        stop = False\n",
    "        while not stop:  \n",
    "            # epsilon-greedy policy\n",
    "            p = np.random.uniform()\n",
    "            if p < epsilon:\n",
    "                a = np.random.choice(actions) # random action\n",
    "            else:\n",
    "                a = actions[np.argmax(Q[s])]  # greedy action based on history information\n",
    "            s_ = moving(mz, seq=a, current_pos=s)    #mapAction(a) # translate string action to numeric action\n",
    "            r = gridWorld[s_]\n",
    "            overEpisodes[i] += r # counter reward accumulated in each episode\n",
    "            epochesCount[i] += 1 # counter of epoch in episode\n",
    "            ix = actions.index(a)\n",
    "            if (method=='Q_l'):\n",
    "                Q[s][ix] = Q[s][ix] + alpha * (r - 0.1 + gamma * np.max(Q[s_]) - Q[s][ix]) \n",
    "\n",
    "            if(method == 'Sarsa'):\n",
    "                p = np.random.uniform()\n",
    "                if p < epsilon:\n",
    "                    a_ = np.random.choice(actions)\n",
    "                else:\n",
    "                    a_ = actions[np.argmax(Q[s_])]\n",
    "                ix_ = actions.index(a_)\n",
    "                Q[s][ix] = Q[s][ix] + alpha * ( r - 0.1 + gamma * Q[s_][ix_] - Q[s][ix])\n",
    "\n",
    "            s = s_\n",
    "            if not r == 0:\n",
    "                stop = True\n",
    "    return Q"
   ]
  },
  {
   "cell_type": "code",
   "execution_count": 1009,
   "metadata": {},
   "outputs": [],
   "source": [
    "def optimize_alpha_epsilon(nEpisodes, epsilon, alpha, gamma, method, lunghezza):\n",
    "    alpha = 0.6\n",
    "    epsilon = 0.1\n",
    "    k = 0\n",
    "    overEpisodes= np.zeros(nEpisodes)\n",
    "    epochesCount= np.zeros(nEpisodes)\n",
    "    diz = {}\n",
    "    \n",
    "    gridWorld = mz.copy()\n",
    "    gridWorld[gridWorld == 1] = float('nan')\n",
    "    gridWorld[gridWorld == 0] = 2\n",
    "    gridWorld[gridWorld == 2] = 0\n",
    "    gridWorld[gridWorld == 3] = 10\n",
    "    Q = np.zeros([mz.shape[0],mz.shape[1],len(actions)])\n",
    "    for i in range(3):\n",
    "        print(\"alpha: \", alpha)\n",
    "        epsilon = 0.1\n",
    "        for j in range(4):\n",
    "            print(\"epsilon: \", epsilon)\n",
    "            gridWorld = mz.copy()\n",
    "            gridWorld[gridWorld == 1] = float('nan')\n",
    "            gridWorld[gridWorld == 0] = 2\n",
    "            gridWorld[gridWorld == 2] = 0\n",
    "            gridWorld[gridWorld == 3] = 10\n",
    "            Q = np.zeros([mz.shape[0],mz.shape[1],len(actions)])\n",
    "            \n",
    "            st = time.time()\n",
    "            #print(st)\n",
    "            \n",
    "            Q = training2(nEpisodes, overEpisodes, epochesCount, epsilon, alpha, gamma, method, Q)\n",
    "            \n",
    "            en = time.time()\n",
    "            #print(en)\n",
    "            \n",
    "            s = start\n",
    "            best_actions = []\n",
    "            for i in range(lunghezza): #while mz[s]!=3:\n",
    "                a = actions[np.argmax(Q[s])]\n",
    "                s_ = moving(mz, seq=a, current_pos=s) \n",
    "                s = s_\n",
    "                best_actions.append(a)\n",
    "                #print(s)\n",
    "            if (mz[s] == 3):\n",
    "                d = {}\n",
    "                d['alpha'] = alpha\n",
    "                d['epsilon'] = epsilon\n",
    "                d['actions'] = best_actions\n",
    "                d['time'] = round(en-st, 3)\n",
    "                diz['sol{0}'.format(k)] = d\n",
    "                k += 1\n",
    "            epsilon += 0.1\n",
    "        alpha += 0.1\n",
    "    return diz\n",
    "    "
   ]
  },
  {
   "cell_type": "code",
   "execution_count": 1010,
   "metadata": {},
   "outputs": [],
   "source": [
    "def the_best_sol (diz):\n",
    "    min_v = 10000\n",
    "    best = {}\n",
    "    for i in diz:\n",
    "        d = diz[i]\n",
    "        t = d['time']\n",
    "        if (t < min_v):\n",
    "            min_v = t\n",
    "            best = d\n",
    "    return best        "
   ]
  },
  {
   "cell_type": "code",
   "execution_count": 1019,
   "metadata": {},
   "outputs": [
    {
     "name": "stdout",
     "output_type": "stream",
     "text": [
      "alpha:  0.6\n",
      "epsilon:  0.1\n",
      "epsilon:  0.2\n",
      "epsilon:  0.30000000000000004\n",
      "epsilon:  0.4\n",
      "alpha:  0.7\n",
      "epsilon:  0.1\n",
      "epsilon:  0.2\n",
      "epsilon:  0.30000000000000004\n",
      "epsilon:  0.4\n",
      "alpha:  0.7999999999999999\n",
      "epsilon:  0.1\n",
      "epsilon:  0.2\n",
      "epsilon:  0.30000000000000004\n",
      "epsilon:  0.4\n"
     ]
    }
   ],
   "source": [
    "#mz, start, end = create_mz(width=20,height=20)\n",
    "gridWorld = mz.copy()\n",
    "gridWorld[gridWorld == 1] = float('nan')\n",
    "gridWorld[gridWorld == 0] = 2\n",
    "gridWorld[gridWorld == 2] = 0\n",
    "gridWorld[gridWorld == 3] = 10\n",
    "nEpisodes = 1500\n",
    "lunghezza = 173\n",
    "gamma = 0.9\n",
    "method = 'Q_l'\n",
    "poss_solutions = optimize_alpha_epsilon(nEpisodes, epsilon, alpha, gamma, method, lunghezza)"
   ]
  },
  {
   "cell_type": "code",
   "execution_count": 1020,
   "metadata": {},
   "outputs": [
    {
     "data": {
      "text/plain": [
       "{'alpha': 0.7999999999999999,\n",
       " 'epsilon': 0.1,\n",
       " 'actions': ['n',\n",
       "  'w',\n",
       "  'w',\n",
       "  'w',\n",
       "  'w',\n",
       "  'w',\n",
       "  'w',\n",
       "  'w',\n",
       "  'w',\n",
       "  'w',\n",
       "  'w',\n",
       "  'n',\n",
       "  'n',\n",
       "  'n',\n",
       "  'n',\n",
       "  'e',\n",
       "  'e',\n",
       "  'n',\n",
       "  'n',\n",
       "  'n',\n",
       "  'n',\n",
       "  'w',\n",
       "  'w',\n",
       "  'n',\n",
       "  'n',\n",
       "  'e',\n",
       "  'e',\n",
       "  'e',\n",
       "  'e',\n",
       "  'e',\n",
       "  'e',\n",
       "  'n',\n",
       "  'n',\n",
       "  'n',\n",
       "  'n',\n",
       "  'n',\n",
       "  'n',\n",
       "  'w',\n",
       "  'w',\n",
       "  'w',\n",
       "  'w',\n",
       "  'n',\n",
       "  'n',\n",
       "  'w',\n",
       "  'w',\n",
       "  'n',\n",
       "  'n',\n",
       "  'w',\n",
       "  'w',\n",
       "  'n',\n",
       "  'n',\n",
       "  'n',\n",
       "  'n',\n",
       "  'w',\n",
       "  'w',\n",
       "  'w',\n",
       "  'w',\n",
       "  'n',\n",
       "  'n',\n",
       "  'w',\n",
       "  'w',\n",
       "  's',\n",
       "  's',\n",
       "  'w',\n",
       "  'w',\n",
       "  'n',\n",
       "  'n',\n",
       "  'n',\n",
       "  'n',\n",
       "  'n',\n",
       "  'n',\n",
       "  'n',\n",
       "  'n',\n",
       "  'n',\n",
       "  'n',\n",
       "  'n',\n",
       "  'n',\n",
       "  'n',\n",
       "  'n',\n",
       "  'n',\n",
       "  'n',\n",
       "  'w',\n",
       "  'w',\n",
       "  'w',\n",
       "  'w',\n",
       "  'w',\n",
       "  'w',\n",
       "  'n',\n",
       "  'n',\n",
       "  'w',\n",
       "  'w',\n",
       "  'w',\n",
       "  'w',\n",
       "  'n',\n",
       "  'n',\n",
       "  'n',\n",
       "  'n',\n",
       "  'n',\n",
       "  'n',\n",
       "  'e',\n",
       "  'e',\n",
       "  'e',\n",
       "  'e',\n",
       "  'n',\n",
       "  'n',\n",
       "  'e',\n",
       "  'e',\n",
       "  'e',\n",
       "  'e',\n",
       "  'n',\n",
       "  'n',\n",
       "  'e',\n",
       "  'e',\n",
       "  'n',\n",
       "  'n',\n",
       "  'n',\n",
       "  'n',\n",
       "  'w',\n",
       "  'w',\n",
       "  'n',\n",
       "  'n',\n",
       "  'n',\n",
       "  'n',\n",
       "  'e',\n",
       "  'e',\n",
       "  'e',\n",
       "  'e',\n",
       "  'e',\n",
       "  'e',\n",
       "  'e',\n",
       "  'e',\n",
       "  'e',\n",
       "  'e',\n",
       "  'n',\n",
       "  'n',\n",
       "  'n',\n",
       "  'n',\n",
       "  'n',\n",
       "  'n',\n",
       "  'n',\n",
       "  'n',\n",
       "  'n',\n",
       "  'n',\n",
       "  'w',\n",
       "  'w',\n",
       "  'w',\n",
       "  'w',\n",
       "  's',\n",
       "  's',\n",
       "  'w',\n",
       "  'w',\n",
       "  'w',\n",
       "  'w',\n",
       "  'w',\n",
       "  'w',\n",
       "  'n',\n",
       "  'n',\n",
       "  'w',\n",
       "  'w',\n",
       "  'n',\n",
       "  'n',\n",
       "  'n',\n",
       "  'n',\n",
       "  'n',\n",
       "  'n',\n",
       "  'n',\n",
       "  'n',\n",
       "  'e',\n",
       "  'e',\n",
       "  'e',\n",
       "  'e',\n",
       "  'e',\n",
       "  'n'],\n",
       " 'time': 21.333}"
      ]
     },
     "execution_count": 1020,
     "metadata": {},
     "output_type": "execute_result"
    }
   ],
   "source": [
    "the_best_sol(poss_solutions)"
   ]
  },
  {
   "cell_type": "code",
   "execution_count": 98,
   "metadata": {},
   "outputs": [
    {
     "data": {
      "text/plain": [
       "(0, 159)"
      ]
     },
     "execution_count": 98,
     "metadata": {},
     "output_type": "execute_result"
    }
   ],
   "source": [
    "end"
   ]
  },
  {
   "cell_type": "code",
   "execution_count": 99,
   "metadata": {},
   "outputs": [
    {
     "data": {
      "text/plain": [
       "array([9.9  , 8.81 , 7.829, 7.829])"
      ]
     },
     "execution_count": 99,
     "metadata": {},
     "output_type": "execute_result"
    }
   ],
   "source": [
    "Q[(1, 159)]"
   ]
  },
  {
   "cell_type": "code",
   "execution_count": 120,
   "metadata": {},
   "outputs": [
    {
     "data": {
      "text/plain": [
       "Text(0,0.5,'Number of Epochs')"
      ]
     },
     "execution_count": 120,
     "metadata": {},
     "output_type": "execute_result"
    },
    {
     "data": {
      "image/png": "[encoded data removed]",
      "text/plain": [
       "<Figure size 432x288 with 1 Axes>"
      ]
     },
     "metadata": {},
     "output_type": "display_data"
    }
   ],
   "source": [
    "win = np.where(overEpisodes==10)[0].size\n",
    "lose = np.where(overEpisodes==-10)[0].size\n",
    "plt.title(\"QLearning - How many episode to converge to optimal solution?\")\n",
    "plt.ylabel(\"Number of episodes\")\n",
    "plt.plot(np.arange(1,nEpisodes+1), epochesCount)\n",
    "plt.title(\"QLearning - How many epochs for each episode?\")\n",
    "plt.xlabel(\"Episode\")\n",
    "plt.ylabel(\"Number of Epochs\")"
   ]
  },
  {
   "cell_type": "code",
   "execution_count": 155,
   "metadata": {
    "collapsed": true
   },
   "outputs": [
    {
     "name": "stdout",
     "output_type": "stream",
     "text": [
      "-   -   -   -   -   -   -   -   -   -   -   -   -   -   -   -   -   -   -   -   -   -   w   n   e   e   e   e   n   w   w   w   w   w   w   w   w   w   w   w   w   -   -   w   -   -   -   -   -   n   -   -   -   n   -   -   -   -   -   -   -   n   -   -   w   -   s   w   n   -   n   w   e   -   n   -   w   n   n   s   e   e   n   -   -   e   -   -   -   w   -   -   -   e   -   n   -   -   -   e   -   -   -   n   -   -   s   n   e   -   n   s   e   -   e   -   n   w   w   -   s   n   e   -   n   -   -   s   -   s   -   n   -   s   -   -   -   n   -   n   -   -   -   -   -   n   -   -   n   -   w   -   w   -   s   n   s   n   n   -   n   w   w   -   e   e   n   -   -   e   -   -   -   e   -   -   -   -   -   s   -   n   -   -   -   s   -   n   -   -   w   w   e   n   s   s   s   -   e   -   w   -   n   -   w   s   w   -   n   -   -   w   -   -   -   -   -   -   -   e   -   w   -   n   -   e   -   -   -   n   -   -   e   -   n   s   n   n   n   -   n   s   s   -   n   -   s   e   s   -   n   -   -   s   -   e   -   -   -   -   -   e   -   -   -   n   -   -   -   -   -   n   -   -   s   -   s   w   s   s   w   w   e   -   e   -   n   w   w   w   w   w   n   -   -   w   -   s   -   -   -   -   -   -   -   w   -   -   -   -   -   -   -   n   -   -   w   -   w   -   w   n   e   e   s   -   n   e   e   n   e   s   s   -   n   -   -   s   -   -   -   e   -   -   -   s   -   n   -   -   -   w   -   -   -   n   -   -   s   n   n   s   e   -   n   -   w   -   w   -   e   -   w   -   e   e   n   -   -   -   -   -   -   -   -   n   -   -   -   s   -   n   -   -   -   n   -   n   -   -   w   n   n   w   n   e   e   e   e   e   e   e   e   e   e   e   n   -   s   -   -   -   -   -   -   -   s   -   -   -   -   -   -   -   -   -   -   -   -   -   -   "
     ]
    }
   ],
   "source": [
    "for i in range(mz.shape[0]):\n",
    "    for j in range(mz.shape[1]):\n",
    "        if not gridWorld[i,j] == 0 :\n",
    "            print(\"-\", end=\"   \")\n",
    "        elif start == tuple((i,j)):\n",
    "            print(\"s\", end=\"   \")\n",
    "        else:\n",
    "            print( actions[np.argmax(Q[i,j])][0], end=\"   \")\n",
    "    #print()"
   ]
  },
  {
   "cell_type": "code",
   "execution_count": 156,
   "metadata": {
    "collapsed": true
   },
   "outputs": [
    {
     "name": "stdout",
     "output_type": "stream",
     "text": [
      "nan   nan   nan   nan   nan   nan   nan   10.0   nan   nan   nan   nan   nan   nan   nan   nan   nan   nan   nan   nan   nan   \n",
      "nan   0.0   0.0   0.0   0.0   0.0   0.0   0.0   0.0   0.0   0.0   0.0   0.0   0.0   0.0   0.0   0.0   0.0   0.0   0.0   nan   \n",
      "nan   0.0   nan   nan   nan   nan   nan   0.0   nan   nan   nan   0.0   nan   nan   nan   nan   nan   nan   nan   0.0   nan   \n",
      "nan   0.0   nan   0.0   0.0   0.0   nan   0.0   0.0   0.0   nan   0.0   nan   0.0   0.0   0.0   0.0   0.0   0.0   0.0   nan   \n",
      "nan   0.0   nan   nan   nan   0.0   nan   nan   nan   0.0   nan   0.0   nan   nan   nan   0.0   nan   nan   nan   0.0   nan   \n",
      "nan   0.0   0.0   0.0   nan   0.0   0.0   0.0   nan   0.0   nan   0.0   0.0   0.0   nan   0.0   0.0   0.0   nan   0.0   nan   \n",
      "nan   0.0   nan   0.0   nan   0.0   nan   0.0   nan   nan   nan   0.0   nan   0.0   nan   nan   nan   nan   nan   0.0   nan   \n",
      "nan   0.0   nan   0.0   nan   0.0   nan   0.0   0.0   0.0   0.0   0.0   nan   0.0   0.0   0.0   nan   0.0   0.0   0.0   nan   \n",
      "nan   0.0   nan   nan   nan   0.0   nan   nan   nan   nan   nan   0.0   nan   0.0   nan   nan   nan   0.0   nan   0.0   nan   \n",
      "nan   0.0   0.0   0.0   0.0   0.0   0.0   0.0   nan   0.0   nan   0.0   nan   0.0   nan   0.0   0.0   0.0   nan   0.0   nan   \n",
      "nan   0.0   nan   nan   nan   nan   nan   nan   nan   0.0   nan   0.0   nan   0.0   nan   0.0   nan   nan   nan   0.0   nan   \n",
      "nan   0.0   nan   0.0   0.0   0.0   0.0   0.0   nan   0.0   0.0   0.0   nan   0.0   nan   0.0   0.0   0.0   nan   0.0   nan   \n",
      "nan   0.0   nan   0.0   nan   nan   nan   nan   nan   0.0   nan   nan   nan   0.0   nan   nan   nan   nan   nan   0.0   nan   \n",
      "nan   0.0   nan   0.0   0.0   0.0   0.0   0.0   0.0   0.0   nan   0.0   nan   0.0   0.0   0.0   0.0   0.0   0.0   0.0   nan   \n",
      "nan   0.0   nan   0.0   nan   nan   nan   nan   nan   nan   nan   0.0   nan   nan   nan   nan   nan   nan   nan   0.0   nan   \n",
      "nan   0.0   nan   0.0   nan   0.0   0.0   0.0   0.0   0.0   nan   0.0   0.0   0.0   0.0   0.0   0.0   0.0   nan   0.0   nan   \n",
      "nan   0.0   nan   nan   nan   0.0   nan   nan   nan   0.0   nan   0.0   nan   nan   nan   0.0   nan   nan   nan   0.0   nan   \n",
      "nan   0.0   0.0   0.0   0.0   0.0   nan   0.0   nan   0.0   nan   0.0   nan   0.0   nan   0.0   nan   0.0   0.0   0.0   nan   \n",
      "nan   nan   nan   nan   nan   nan   nan   0.0   nan   nan   nan   0.0   nan   0.0   nan   nan   nan   0.0   nan   0.0   nan   \n",
      "nan   0.0   0.0   0.0   0.0   0.0   0.0   0.0   0.0   0.0   0.0   0.0   0.0   0.0   0.0   0.0   0.0   0.0   nan   0.0   nan   \n",
      "nan   nan   nan   nan   nan   nan   0.0   nan   nan   nan   nan   nan   nan   nan   nan   nan   nan   nan   nan   nan   nan   \n"
     ]
    }
   ],
   "source": [
    "for i in range(mz.shape[0]):\n",
    "    for j in range(mz.shape[1]):\n",
    "            print( gridWorld[i,j], end=\"   \")\n",
    "    print()"
   ]
  },
  {
   "cell_type": "code",
   "execution_count": null,
   "metadata": {},
   "outputs": [],
   "source": []
  }
 ],
 "metadata": {
  "kernelspec": {
   "display_name": "Python 3",
   "language": "python",
   "name": "python3"
  },
  "language_info": {
   "codemirror_mode": {
    "name": "ipython",
    "version": 3
   },
   "file_extension": ".py",
   "mimetype": "text/x-python",
   "name": "python",
   "nbconvert_exporter": "python",
   "pygments_lexer": "ipython3",
   "version": "3.6.5"
  }
 },
 "nbformat": 4,
 "nbformat_minor": 2
}
