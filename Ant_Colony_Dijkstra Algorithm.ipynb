{
 "cells": [
  {
   "cell_type": "code",
   "execution_count": 1,
   "metadata": {},
   "outputs": [],
   "source": [
    "import pandas as pd\n",
    "import numpy as np\n",
    "from random import randrange\n",
    "import numpy as np\n",
    "from numpy.random import random_integers as rnd\n",
    "import matplotlib.pyplot as plt\n",
    "import math"
   ]
  },
  {
   "cell_type": "code",
   "execution_count": 2,
   "metadata": {},
   "outputs": [],
   "source": [
    "def maze(width=80, height=40, complexity=.75, density =.75):\n",
    "    # Only odd shapes\n",
    "    shape = ((height//2)*2+1, (width//2)*2+1)\n",
    "    # Adjust complexity and density relative to maze size\n",
    "    complexity = int(complexity*(5*(shape[0]+shape[1])))\n",
    "    density    = int(density*(shape[0]//2*shape[1]//2))\n",
    "    # Build actual maze\n",
    "    Z = np.zeros(shape)\n",
    "    # Fill borders\n",
    "    Z[0,:] = Z[-1,:] = 1\n",
    "    Z[:,0] = Z[:,-1] = 1\n",
    "    # Make isles\n",
    "    for i in range(density):\n",
    "        x, y = rnd(0,shape[1]//2)*2, rnd(0,shape[0]//2)*2\n",
    "        Z[y,x] = 1\n",
    "        for j in range(complexity):\n",
    "            neighbours = []\n",
    "            if x > 1:           neighbours.append( (y,x-2) )\n",
    "            if x < shape[1]-2:  neighbours.append( (y,x+2) )\n",
    "            if y > 1:           neighbours.append( (y-2,x) )\n",
    "            if y < shape[0]-2:  neighbours.append( (y+2,x) )\n",
    "            if len(neighbours):\n",
    "                y_,x_ = neighbours[rnd(0,len(neighbours)-1)]\n",
    "                if Z[y_,x_] == 0:\n",
    "                    Z[y_,x_] = 1\n",
    "                    Z[y_+(y-y_)//2, x_+(x-x_)//2] = 1\n",
    "                    x, y = x_, y_\n",
    "    return Z"
   ]
  },
  {
   "cell_type": "code",
   "execution_count": 3,
   "metadata": {},
   "outputs": [],
   "source": [
    "def create_mz(width = 80, height = 40):\n",
    "    mz = maze(width, height)\n",
    "    for i in range(100):\n",
    "        x = randrange(mz.shape[1]-1) #start 2\n",
    "        y = randrange(mz.shape[1]-1) #end 3\n",
    "        if (x!=0 & x!=(randrange(mz.shape[1]-1)) & y!=0 & y!=(randrange(mz.shape[1]-1)) &(mz[1][y]!=1) & (mz[mz.shape[0]-2][x]!=1)):\n",
    "            mz[mz.shape[0]-1][x] = 2\n",
    "            mz[0][y] = 3\n",
    "            break\n",
    "    start = (mz.shape[0]-1,x)\n",
    "    end = (0, y)\n",
    "    return(mz, start, end)"
   ]
  },
  {
   "cell_type": "code",
   "execution_count": 4,
   "metadata": {},
   "outputs": [],
   "source": [
    "def moving(mz, seq, current_pos):\n",
    "    for i in seq:\n",
    "        if ((i == 'n') & (current_pos[0]!=0)):\n",
    "            if((mz[current_pos[0]-1, current_pos[1]]!=1)):\n",
    "                current_pos = (current_pos[0]-1, current_pos[1])\n",
    "        if ((i == 's') & (current_pos[0]!=(mz.shape[0]-1))):\n",
    "            if((mz[current_pos[0] + 1, current_pos[1]]!=1)):\n",
    "                current_pos = (current_pos[0]+1, current_pos[1])\n",
    "        if ((i == 'w') & (mz[(current_pos[0], current_pos[1]-1)]!=1)):\n",
    "            current_pos = (current_pos[0], current_pos[1]-1)\n",
    "        if ((i == 'e') & (mz[(current_pos[0], current_pos[1]+1)]!=1)):\n",
    "            current_pos = (current_pos[0], current_pos[1]+1)\n",
    "    return(current_pos)"
   ]
  },
  {
   "cell_type": "code",
   "execution_count": 5,
   "metadata": {},
   "outputs": [],
   "source": [
    "def display_current_pos(mz, current_pos, figsize=(6,4), cmap = plt.cm.binary):\n",
    "    mz2 = mz.copy()\n",
    "    mz2[current_pos] = 4\n",
    "    plt.figure(figsize=figsize)\n",
    "    plt.imshow(mz2,interpolation='nearest', cmap=cmap)\n",
    "    plt.xticks([]),plt.yticks([])\n",
    "    plt.show()"
   ]
  },
  {
   "cell_type": "code",
   "execution_count": 6,
   "metadata": {},
   "outputs": [],
   "source": [
    "def display_action_sequence(mz, seq, current_pos, figsize = (6,4), cmap = plt.cm.binary):\n",
    "    mz2 = mz.copy()\n",
    "    for i in seq:\n",
    "        current_pos = moving(mz, i, current_pos)\n",
    "        mz2[current_pos] = 4\n",
    "    plt.figure(figsize=figsize)\n",
    "    plt.imshow(mz2,interpolation='nearest', cmap=cmap) #plt.cm.binary\n",
    "    plt.xticks([]),plt.yticks([])\n",
    "    plt.show()"
   ]
  },
  {
   "cell_type": "markdown",
   "metadata": {},
   "source": [
    "# Mapping GridWorld (attenzione, le funzioni hanno lo stesso nome di quelle create per il Fuzzy_Counter_Ant_Algorithm, ma sono diverse) "
   ]
  },
  {
   "cell_type": "code",
   "execution_count": 7,
   "metadata": {},
   "outputs": [],
   "source": [
    "def actions_val(gridWorld, ant_pos, start, end):\n",
    "    #print(ant_pos)\n",
    "    #print(start)\n",
    "    value_act = []\n",
    "    if (ant_pos == start):\n",
    "        #print('ok')\n",
    "        value_act = [0, float('nan'), float('nan'), float('nan')]\n",
    "    elif (ant_pos == end):\n",
    "        value_act = [float('nan'), 0, float('nan'), float('nan')]\n",
    "    else:\n",
    "        for i in actions:\n",
    "            if (i == \"n\"):\n",
    "                value_act.append(gridWorld[(ant_pos[0]-1, ant_pos[1])])\n",
    "            if (i == \"s\"):\n",
    "                value_act.append(gridWorld[(ant_pos[0]+1, ant_pos[1])])\n",
    "            if (i == \"e\"):\n",
    "                value_act.append(gridWorld[(ant_pos[0], ant_pos[1]+1)])\n",
    "            if (i == \"w\"):\n",
    "                value_act.append(gridWorld[(ant_pos[0], ant_pos[1]-1)])  \n",
    "    return(value_act)"
   ]
  },
  {
   "cell_type": "code",
   "execution_count": 8,
   "metadata": {},
   "outputs": [],
   "source": [
    "def is_decision_node(gridWorld, ant_pos, start, end, ant):\n",
    "    b = False\n",
    "    if (ant_pos == start):\n",
    "        b = True\n",
    "    if (ant_pos == end):\n",
    "        b = True\n",
    "    value_act = actions_val(gridWorld, ant_pos, start, end)\n",
    "    non_zeros = np.count_nonzero(value_act)\n",
    "    if (non_zeros <= 2):\n",
    "        b = True\n",
    "    how_many_ants = len(actions) - non_zeros\n",
    "    if(ant['n_visited_nodes']==1)&(gridWorld[ant_pos]==999):\n",
    "        b = True\n",
    "    return b, how_many_ants"
   ]
  },
  {
   "cell_type": "code",
   "execution_count": 9,
   "metadata": {},
   "outputs": [],
   "source": [
    "def moving_ant(gridWorld, ant_pos, start, end, ant):\n",
    "    nm = np.nanmin(actions_val(gridWorld,ant_pos, start, end))\n",
    "    if ((ant['n_visited_nodes']==1) & (np.nanmax(actions_val(gridWorld,ant_pos, start, end)) == 999) & (nm!=0)):\n",
    "        a = np.nanargmax(actions_val(gridWorld,ant_pos, start, end))\n",
    "        if(ant['start_node']!=moving(mz, seq = actions[a], current_pos = ant_pos )):\n",
    "            action_idx = a\n",
    "                #print(actions_val(gridWorld,ant_pos, start, end), actions[action_idx], ant_pos)\n",
    "        else:\n",
    "            action_idx = np.nanargmin(actions_val(gridWorld,ant_pos, start, end))\n",
    "    else:\n",
    "        action_idx = np.nanargmin(actions_val(gridWorld,ant_pos, start, end))\n",
    "    #print(ant_pos, actions_val(gridWorld,ant_pos, start, end), ant['n_visited_nodes'], np.nanmax(actions_val(gridWorld,ant_pos, start, end)), np.nanmin(actions_val(gridWorld,ant_pos, start, end)), actions[action_idx])\n",
    "    return(actions[action_idx]) "
   ]
  },
  {
   "cell_type": "code",
   "execution_count": 10,
   "metadata": {},
   "outputs": [],
   "source": [
    "def update_grid_after_action(gridWorld, ant_pos):\n",
    "    if(gridWorld[ant_pos]==0):\n",
    "        gridWorld[ant_pos] = 1\n",
    "    return gridWorld"
   ]
  },
  {
   "cell_type": "code",
   "execution_count": 12,
   "metadata": {},
   "outputs": [
    {
     "name": "stderr",
     "output_type": "stream",
     "text": [
      "/Library/Frameworks/Python.framework/Versions/3.7/lib/python3.7/site-packages/ipykernel_launcher.py:14: DeprecationWarning: This function is deprecated. Please call randint(0, 5 + 1) instead\n",
      "  \n",
      "/Library/Frameworks/Python.framework/Versions/3.7/lib/python3.7/site-packages/ipykernel_launcher.py:23: DeprecationWarning: This function is deprecated. Please call randint(0, 3 + 1) instead\n",
      "/Library/Frameworks/Python.framework/Versions/3.7/lib/python3.7/site-packages/ipykernel_launcher.py:23: DeprecationWarning: This function is deprecated. Please call randint(0, 2 + 1) instead\n",
      "/Library/Frameworks/Python.framework/Versions/3.7/lib/python3.7/site-packages/ipykernel_launcher.py:23: DeprecationWarning: This function is deprecated. Please call randint(0, 1 + 1) instead\n"
     ]
    }
   ],
   "source": [
    "mz, start, end = create_mz(width=10,height=10)"
   ]
  },
  {
   "cell_type": "code",
   "execution_count": 13,
   "metadata": {},
   "outputs": [],
   "source": [
    "def training (gridWorld, max_iter = 200, start = start, end = end):\n",
    "    n_ants = 0\n",
    "    ants = {}\n",
    "    ant_info = {}\n",
    "    ant_info['position'] = start\n",
    "    ant_info['start_node'] = start\n",
    "    ant_info['n_visited_nodes'] = 1 #visto che parte da start che è un nodo, allora n_visited_nodes è 1\n",
    "    ant_info['actions'] = []\n",
    "    ants[\"ant{0}\".format(n_ants)] = ant_info\n",
    "    for i in range(max_iter):\n",
    "        #print(gridWorld,ants)\n",
    "        for j in range(len(ants)):\n",
    "            n_visited_nodes = ants[\"ant{0}\".format(j)]['n_visited_nodes']\n",
    "            if (n_visited_nodes < 2 ):\n",
    "                ant_pos = ants[\"ant{0}\".format(j)]['position']\n",
    "                action = moving_ant(gridWorld, ant_pos, start, end, ants[\"ant{0}\".format(j)])\n",
    "                ants[\"ant{0}\".format(j)]['actions'].append(action)\n",
    "                ants[\"ant{0}\".format(j)]['position'] = moving(mz, seq = action, current_pos = ant_pos)\n",
    "                ant_pos = ants[\"ant{0}\".format(j)]['position']\n",
    "                gridWorld = update_grid_after_action(gridWorld, ant_pos)\n",
    "                b, how_many_ants = is_decision_node(gridWorld,ant_pos, start, end, ants[\"ant{0}\".format(j)])\n",
    "                if (b == True):\n",
    "                    gridWorld[ant_pos] = 999\n",
    "                    ants[\"ant{0}\".format(j)]['n_visited_nodes'] += 1\n",
    "                    if(ants[\"ant{0}\".format(j)]['n_visited_nodes'] == 2):\n",
    "                        ants[\"ant{0}\".format(j)]['end_node'] = ant_pos\n",
    "                    for i in range(how_many_ants):\n",
    "                        n_ants += 1\n",
    "                        ant_info = {}\n",
    "                        ant_info['position'] = ant_pos\n",
    "                        ant_info['n_visited_nodes'] = 1\n",
    "                        ant_info['start_node'] = ant_pos\n",
    "                        ant_info['actions'] = []\n",
    "                        ants[\"ant{0}\".format(n_ants)] = ant_info\n",
    "    return gridWorld, ants"
   ]
  },
  {
   "cell_type": "code",
   "execution_count": 14,
   "metadata": {},
   "outputs": [],
   "source": [
    "def prepare_dict_for_dijskstra(ants):\n",
    "    diz_out = {}\n",
    "    idx = 0\n",
    "    for j in ants:\n",
    "        #print(j)\n",
    "        i = ants[j]\n",
    "        if ('end_node' in i.keys()):\n",
    "            #print(diz_out.keys())\n",
    "            if (i['start_node'] not in diz_out.keys()):\n",
    "                d = {}\n",
    "                d[i['end_node']] = len(i['actions'])\n",
    "                diz_out[i['start_node']] = d\n",
    "            else:\n",
    "                diz_out[i['start_node']][i['end_node']] = len(i['actions'])\n",
    "    l = []\n",
    "    for d in diz_out:\n",
    "        for key in diz_out[d]:\n",
    "            if (key not in diz_out.keys()):\n",
    "                l.append(key)\n",
    "                x = d\n",
    "    #print(l, x)\n",
    "    \n",
    "    for i in range(len(l)):\n",
    "        diz_out[l[i]] = {x: 9999999999}\n",
    "    return diz_out"
   ]
  },
  {
   "cell_type": "code",
   "execution_count": 15,
   "metadata": {},
   "outputs": [],
   "source": [
    "def get_action_sequence(l, ants):\n",
    "    action_s = []\n",
    "    diz = {}\n",
    "    for i in range(len(l)-1):\n",
    "        for j in ants:\n",
    "            d = ants[j]\n",
    "            if ('end_node' in d.keys()):\n",
    "                if ((d['start_node'] == l[i])&(d['end_node']==l[i+1])):\n",
    "                    if l[i] not in diz.keys():\n",
    "                        action_s.extend(d['actions'])\n",
    "                    diz[l[i]] = l[i+1]\n",
    "    return action_s                "
   ]
  },
  {
   "cell_type": "markdown",
   "metadata": {},
   "source": [
    "# Dijsktra"
   ]
  },
  {
   "cell_type": "code",
   "execution_count": 16,
   "metadata": {},
   "outputs": [],
   "source": [
    "from __future__ import generators\n",
    "class priorityDictionary(dict):\n",
    "    def __init__(self):\n",
    "        self.__heap = []\n",
    "        dict.__init__(self)\n",
    "\n",
    "    def smallest(self):\n",
    "        if len(self) == 0:\n",
    "            raise IndexError \n",
    "        heap = self.__heap\n",
    "        while heap[0][1] not in self or self[heap[0][1]] != heap[0][0]:\n",
    "            lastItem = heap.pop()\n",
    "            insertionPoint = 0\n",
    "            while 1:\n",
    "                smallChild = 2*insertionPoint+1\n",
    "                if smallChild+1 < len(heap) and \\\n",
    "                        heap[smallChild] > heap[smallChild+1]:\n",
    "                    smallChild += 1\n",
    "                if smallChild >= len(heap) or lastItem <= heap[smallChild]:\n",
    "                    heap[insertionPoint] = lastItem\n",
    "                    break\n",
    "                heap[insertionPoint] = heap[smallChild]\n",
    "                insertionPoint = smallChild\n",
    "        return heap[0][1]\n",
    "\t\n",
    "    def __iter__(self):\n",
    "        def iterfn():\n",
    "            while len(self) > 0:\n",
    "                x = self.smallest()\n",
    "                yield x\n",
    "                del self[x]\n",
    "        return iterfn()\n",
    "\t\n",
    "    def __setitem__(self,key,val):\n",
    "        dict.__setitem__(self,key,val)\n",
    "        heap = self.__heap\n",
    "        if len(heap) > 2 * len(self):\n",
    "            self.__heap = [(v,k) for k,v in self.iteritems()]\n",
    "            self.__heap.sort()  # builtin sort likely faster than O(n) heapify\n",
    "        else:\n",
    "            newPair = (val,key)\n",
    "            insertionPoint = len(heap)\n",
    "            heap.append(None)\n",
    "            while insertionPoint > 0 and \\\n",
    "                    newPair < heap[(insertionPoint-1)//2]:\n",
    "                heap[insertionPoint] = heap[(insertionPoint-1)//2]\n",
    "                insertionPoint = (insertionPoint-1)//2\n",
    "            heap[insertionPoint] = newPair\n",
    "\t\n",
    "    def setdefault(self,key,val):\n",
    "        if key not in self:\n",
    "            self[key] = val\n",
    "        return self[key]\n",
    "def Dijkstra(G,start,end=None):\n",
    "\n",
    "\tD = {}\t# dictionary of final distances\n",
    "\tP = {}\t# dictionary of predecessors\n",
    "\tQ = priorityDictionary()   # est.dist. of non-final vert.\n",
    "\tQ[start] = 0\n",
    "\t\n",
    "\tfor v in Q:\n",
    "\t\tD[v] = Q[v]\n",
    "\t\tif v == end: break\n",
    "\t\t\n",
    "\t\tfor w in G[v]:\n",
    "\t\t\tvwLength = D[v] + G[v][w]\n",
    "\t\t\tif w in D:\n",
    "\t\t\t\tif vwLength < D[w]:\n",
    "\t\t\t\t\traise ValueError\n",
    "\t\t\telif w not in Q or vwLength < Q[w]:\n",
    "\t\t\t\tQ[w] = vwLength\n",
    "\t\t\t\tP[w] = v\n",
    "\t\n",
    "\treturn (D,P)\n",
    "\t\t\t\n",
    "def shortestPath(G,start,end):\n",
    "\n",
    "\tD,P = Dijkstra(G,start,end)\n",
    "\tPath = []\n",
    "\twhile 1:\n",
    "\t\tPath.append(end)\n",
    "\t\tif end == start: break\n",
    "\t\tend = P[end]\n",
    "\tPath.reverse()\n",
    "\treturn Path"
   ]
  },
  {
   "cell_type": "code",
   "execution_count": 21,
   "metadata": {},
   "outputs": [
    {
     "name": "stdout",
     "output_type": "stream",
     "text": [
      "CPU times: user 945 µs, sys: 726 µs, total: 1.67 ms\n",
      "Wall time: 1.01 ms\n"
     ]
    }
   ],
   "source": [
    "%%time\n",
    "#mz, start, end = create_mz(width=200,height=200)\n",
    "actions = ['n', 's', 'e','w']\n",
    "gridWorld = mz.copy()\n",
    "gridWorld[gridWorld == 1] = float('nan')\n",
    "gridWorld[gridWorld == 0] = 0\n",
    "gridWorld[gridWorld == 2] = 0\n",
    "gridWorld[gridWorld == 3] = 0\n",
    "gridWorld[start]=0\n",
    "gridWorld[end]=0"
   ]
  },
  {
   "cell_type": "code",
   "execution_count": 22,
   "metadata": {},
   "outputs": [
    {
     "name": "stdout",
     "output_type": "stream",
     "text": [
      "CPU times: user 1min 43s, sys: 2.15 s, total: 1min 45s\n",
      "Wall time: 1min 50s\n"
     ]
    }
   ],
   "source": [
    "%%time\n",
    "gridWorld, ants = training(gridWorld, max_iter=500, start=start, end = end) #con 500 funziona"
   ]
  },
  {
   "cell_type": "code",
   "execution_count": 23,
   "metadata": {},
   "outputs": [
    {
     "data": {
      "text/plain": [
       "0"
      ]
     },
     "execution_count": 23,
     "metadata": {},
     "output_type": "execute_result"
    }
   ],
   "source": [
    "len(gridWorld[gridWorld==0])"
   ]
  },
  {
   "cell_type": "code",
   "execution_count": 24,
   "metadata": {},
   "outputs": [],
   "source": [
    "G = prepare_dict_for_dijskstra(ants)"
   ]
  },
  {
   "cell_type": "code",
   "execution_count": 25,
   "metadata": {},
   "outputs": [],
   "source": [
    "sp = shortestPath(G, start, end)"
   ]
  },
  {
   "cell_type": "markdown",
   "metadata": {},
   "source": [
    "for j in ants:\n",
    "    i = ants[j]\n",
    "    if('end_node' in i.keys()):    \n",
    "        if ((i['start_node']==(100,82)) & (i['end_node']==(99,82))):\n",
    "            print(i)"
   ]
  },
  {
   "cell_type": "code",
   "execution_count": 26,
   "metadata": {},
   "outputs": [],
   "source": [
    "act_seq = get_action_sequence(sp, ants)"
   ]
  },
  {
   "cell_type": "code",
   "execution_count": 28,
   "metadata": {},
   "outputs": [
    {
     "data": {
      "image/png": "[encoded data removed]",
      "text/plain": [
       "<Figure size 1080x1080 with 1 Axes>"
      ]
     },
     "metadata": {},
     "output_type": "display_data"
    }
   ],
   "source": [
    "display_action_sequence(mz, act_seq, current_pos = start, figsize=(15,15))"
   ]
  },
  {
   "cell_type": "code",
   "execution_count": null,
   "metadata": {},
   "outputs": [],
   "source": []
  }
 ],
 "metadata": {
  "kernelspec": {
   "display_name": "Python 3",
   "language": "python",
   "name": "python3"
  },
  "language_info": {
   "codemirror_mode": {
    "name": "ipython",
    "version": 3
   },
   "file_extension": ".py",
   "mimetype": "text/x-python",
   "name": "python",
   "nbconvert_exporter": "python",
   "pygments_lexer": "ipython3",
   "version": "3.7.3"
  }
 },
 "nbformat": 4,
 "nbformat_minor": 2
}
